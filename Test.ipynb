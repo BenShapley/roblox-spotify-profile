{
 "cells": [
  {
   "cell_type": "code",
   "execution_count": 55,
   "id": "b50c1636-3419-469a-b355-8f55ea00ddac",
   "metadata": {},
   "outputs": [],
   "source": [
    "import robloxpy\n",
    "import requests\n",
    "import webbrowser\n",
    "import spotipy\n",
    "import spotipy.util as util\n",
    "import json\n",
    "import base64\n",
    "from roblox import Client\n",
    "import roblox.thumbnails as thumbnail\n",
    "import asyncio"
   ]
  },
  {
   "cell_type": "code",
   "execution_count": 56,
   "id": "2cd9098c-fa79-48ba-98a8-92428b707e4f",
   "metadata": {},
   "outputs": [],
   "source": [
    "# Read Roblox Cookie\n",
    "with open(\"keys/roblox_cookie.txt\", \"r\") as roblox_file:\n",
    "    roblox_key = roblox_file.read()\n",
    "\n",
    "cookie = roblox_key"
   ]
  },
  {
   "cell_type": "code",
   "execution_count": null,
   "id": "e6c6d925-e744-46a6-8b3b-2ed69f196a91",
   "metadata": {},
   "outputs": [],
   "source": [
    "# Setting Roblox Cookie to Client\n",
    "client = Client(cookie)\n",
    "\n",
    "async def main():\n",
    "    user = await client.get_authenticated_user()\n",
    "    # Test to see if you are in\n",
    "    # *** ID CAN BE PRINTED: it is found in Roblox profile URL***\n",
    "    print(\"ID:\", user.id)\n",
    "    \n",
    "await main()"
   ]
  },
  {
   "cell_type": "code",
   "execution_count": 58,
   "id": "8cf4a2e4-5bef-4652-bd16-c7a15024a125",
   "metadata": {},
   "outputs": [
    {
     "data": {
      "text/plain": [
       "[{'name': 'Robloxer10_8', 'id': 1672297418},\n",
       " {'name': 'Roblox', 'id': 1},\n",
       " {'name': 'Robloxksnkx', 'id': 7532781071},\n",
       " {'name': 'Owen2528o', 'id': 2032413788},\n",
       " {'name': 'RobloxIsMe145', 'id': 7535721474},\n",
       " {'name': 'RobloxRobloxYT_1', 'id': 7148111849},\n",
       " {'name': 'lukepukenow', 'id': 5033340271},\n",
       " {'name': '2019Squish', 'id': 4370141275},\n",
       " {'name': 'Roblox1025431', 'id': 7505533053},\n",
       " {'name': 'Roblox_Roblox3337', 'id': 7516193027}]"
      ]
     },
     "execution_count": 58,
     "metadata": {},
     "output_type": "execute_result"
    }
   ],
   "source": [
    "# Input desired Roblox Username\n",
    "desired_name = \"Roblox\"\n",
    "outputted_names = []\n",
    "\n",
    "async def main():\n",
    "    # Search the username and X results\n",
    "    users = client.user_search(desired_name, max_items =10)\n",
    "    async for user in users:\n",
    "        # Add to list\n",
    "        outputted_names.append(user.name)\n",
    "        outputted_names.append(user.id)\n",
    "await main()\n",
    "\n",
    "formatted_names = []\n",
    "for i in range(0, len(outputted_names), 2):\n",
    "    # Format list to dictonary to access Name & ID\n",
    "    formatted_names.append({'name': outputted_names[i], 'id': outputted_names[i + 1]})\n",
    "\n",
    "formatted_names"
   ]
  },
  {
   "cell_type": "code",
   "execution_count": 59,
   "id": "3d7bd360-1449-420e-8464-f0ea67011ae9",
   "metadata": {},
   "outputs": [
    {
     "name": "stdout",
     "output_type": "stream",
     "text": [
      "https://tr.rbxcdn.com/30DAY-Avatar-9F28BB1C914113B89C77765D0BEB74AF-Png/420/420/Avatar/Png/noFilter\n"
     ]
    }
   ],
   "source": [
    "# Pick a user: this could be random but in this case its top result\n",
    "desired_user = formatted_names[0]\n",
    "user = await client.get_user(desired_user[\"id\"])\n",
    "# Get the avatar thumbnaill found on their profile\n",
    "user_thumbnails = await client.thumbnails.get_user_avatar_thumbnails(\n",
    "    users=[user],\n",
    "    type=thumbnail.AvatarThumbnailType.full_body,\n",
    "    size=(420, 420)\n",
    ")\n",
    "\n",
    "# Print the URL\n",
    "if len(user_thumbnails) > 0:\n",
    "    user_thumbnail = user_thumbnails[0]\n",
    "    user_image = user_thumbnail.image_url\n",
    "    print(user_image)"
   ]
  },
  {
   "cell_type": "code",
   "execution_count": 60,
   "id": "41baadbd-b15c-4c11-b86a-0e2c22eeeecd",
   "metadata": {},
   "outputs": [],
   "source": [
    "# Load Spotify data\n",
    "with open(\"keys/spotify_keys.json\", \"r\") as spotify_files:\n",
    "    tokens = json.load(spotify_files)\n",
    "\n",
    "my_client_id = tokens[\"client_id\"]\n",
    "my_client_secret = tokens[\"client_secret\"]\n",
    "redirectURI = tokens[\"redirect\"]\n",
    "username = tokens[\"username\"]"
   ]
  },
  {
   "cell_type": "code",
   "execution_count": 61,
   "id": "0f22917e-d037-4c9f-913c-a20c002924b5",
   "metadata": {},
   "outputs": [],
   "source": [
    "# Spotify scopes (INCLUDE ugc-image-upload)\n",
    "scope = \"user-read-private user-read-playback-state user-modify-playback-state playlist-modify-public playlist-modify-private ugc-image-upload\"\n",
    "token = util.prompt_for_user_token(username, scope, client_id=my_client_id, client_secret=my_client_secret, redirect_uri=redirectURI)\n",
    "\n",
    "sp = spotipy.Spotify(auth=token)"
   ]
  },
  {
   "cell_type": "code",
   "execution_count": 62,
   "id": "7b3a866e-b816-4cfc-b99e-80c8859835d9",
   "metadata": {},
   "outputs": [
    {
     "name": "stdout",
     "output_type": "stream",
     "text": [
      "Robloxer10_8\n",
      "{'tracks': {'href': 'https://api.spotify.com/v1/search?query=Robloxer10_8&type=track&offset=0&limit=10', 'items': [{'album': {'album_type': 'single', 'artists': [{'external_urls': {'spotify': 'https://open.spotify.com/artist/5ZW1R5JS4WcZiDOmpfhS7d'}, 'href': 'https://api.spotify.com/v1/artists/5ZW1R5JS4WcZiDOmpfhS7d', 'id': '5ZW1R5JS4WcZiDOmpfhS7d', 'name': 'Lankybox', 'type': 'artist', 'uri': 'spotify:artist:5ZW1R5JS4WcZiDOmpfhS7d'}], 'available_markets': ['AR', 'AU', 'AT', 'BE', 'BO', 'BR', 'BG', 'CA', 'CL', 'CO', 'CR', 'CY', 'CZ', 'DK', 'DO', 'DE', 'EC', 'EE', 'SV', 'FI', 'FR', 'GR', 'GT', 'HN', 'HK', 'HU', 'IS', 'IE', 'IT', 'LV', 'LT', 'LU', 'MY', 'MT', 'MX', 'NL', 'NZ', 'NI', 'NO', 'PA', 'PY', 'PE', 'PH', 'PL', 'PT', 'SG', 'SK', 'ES', 'SE', 'CH', 'TW', 'TR', 'UY', 'US', 'GB', 'AD', 'LI', 'MC', 'ID', 'JP', 'TH', 'VN', 'RO', 'IL', 'ZA', 'SA', 'AE', 'BH', 'QA', 'OM', 'KW', 'EG', 'MA', 'DZ', 'TN', 'LB', 'JO', 'PS', 'IN', 'BY', 'KZ', 'MD', 'UA', 'AL', 'BA', 'HR', 'ME', 'MK', 'RS', 'SI', 'KR', 'BD', 'PK', 'LK', 'GH', 'KE', 'NG', 'TZ', 'UG', 'AG', 'AM', 'BS', 'BB', 'BZ', 'BT', 'BW', 'BF', 'CV', 'CW', 'DM', 'FJ', 'GM', 'GE', 'GD', 'GW', 'GY', 'HT', 'JM', 'KI', 'LS', 'LR', 'MW', 'MV', 'ML', 'MH', 'FM', 'NA', 'NR', 'NE', 'PW', 'PG', 'PR', 'WS', 'SM', 'ST', 'SN', 'SC', 'SL', 'SB', 'KN', 'LC', 'VC', 'SR', 'TL', 'TO', 'TT', 'TV', 'VU', 'AZ', 'BN', 'BI', 'KH', 'CM', 'TD', 'KM', 'GQ', 'SZ', 'GA', 'GN', 'KG', 'LA', 'MO', 'MR', 'MN', 'NP', 'RW', 'TG', 'UZ', 'ZW', 'BJ', 'MG', 'MU', 'MZ', 'AO', 'CI', 'DJ', 'ZM', 'CD', 'CG', 'IQ', 'LY', 'TJ', 'VE', 'ET', 'XK'], 'external_urls': {'spotify': 'https://open.spotify.com/album/6muNKrLdhLIYKUei8ta1qT'}, 'href': 'https://api.spotify.com/v1/albums/6muNKrLdhLIYKUei8ta1qT', 'id': '6muNKrLdhLIYKUei8ta1qT', 'images': [{'height': 640, 'url': 'https://i.scdn.co/image/ab67616d0000b273d9acc151236951e96873d106', 'width': 640}, {'height': 300, 'url': 'https://i.scdn.co/image/ab67616d00001e02d9acc151236951e96873d106', 'width': 300}, {'height': 64, 'url': 'https://i.scdn.co/image/ab67616d00004851d9acc151236951e96873d106', 'width': 64}], 'name': 'The Roblox Song', 'release_date': '2022-06-11', 'release_date_precision': 'day', 'total_tracks': 1, 'type': 'album', 'uri': 'spotify:album:6muNKrLdhLIYKUei8ta1qT'}, 'artists': [{'external_urls': {'spotify': 'https://open.spotify.com/artist/5ZW1R5JS4WcZiDOmpfhS7d'}, 'href': 'https://api.spotify.com/v1/artists/5ZW1R5JS4WcZiDOmpfhS7d', 'id': '5ZW1R5JS4WcZiDOmpfhS7d', 'name': 'Lankybox', 'type': 'artist', 'uri': 'spotify:artist:5ZW1R5JS4WcZiDOmpfhS7d'}], 'available_markets': ['AR', 'AU', 'AT', 'BE', 'BO', 'BR', 'BG', 'CA', 'CL', 'CO', 'CR', 'CY', 'CZ', 'DK', 'DO', 'DE', 'EC', 'EE', 'SV', 'FI', 'FR', 'GR', 'GT', 'HN', 'HK', 'HU', 'IS', 'IE', 'IT', 'LV', 'LT', 'LU', 'MY', 'MT', 'MX', 'NL', 'NZ', 'NI', 'NO', 'PA', 'PY', 'PE', 'PH', 'PL', 'PT', 'SG', 'SK', 'ES', 'SE', 'CH', 'TW', 'TR', 'UY', 'US', 'GB', 'AD', 'LI', 'MC', 'ID', 'JP', 'TH', 'VN', 'RO', 'IL', 'ZA', 'SA', 'AE', 'BH', 'QA', 'OM', 'KW', 'EG', 'MA', 'DZ', 'TN', 'LB', 'JO', 'PS', 'IN', 'BY', 'KZ', 'MD', 'UA', 'AL', 'BA', 'HR', 'ME', 'MK', 'RS', 'SI', 'KR', 'BD', 'PK', 'LK', 'GH', 'KE', 'NG', 'TZ', 'UG', 'AG', 'AM', 'BS', 'BB', 'BZ', 'BT', 'BW', 'BF', 'CV', 'CW', 'DM', 'FJ', 'GM', 'GE', 'GD', 'GW', 'GY', 'HT', 'JM', 'KI', 'LS', 'LR', 'MW', 'MV', 'ML', 'MH', 'FM', 'NA', 'NR', 'NE', 'PW', 'PG', 'PR', 'WS', 'SM', 'ST', 'SN', 'SC', 'SL', 'SB', 'KN', 'LC', 'VC', 'SR', 'TL', 'TO', 'TT', 'TV', 'VU', 'AZ', 'BN', 'BI', 'KH', 'CM', 'TD', 'KM', 'GQ', 'SZ', 'GA', 'GN', 'KG', 'LA', 'MO', 'MR', 'MN', 'NP', 'RW', 'TG', 'UZ', 'ZW', 'BJ', 'MG', 'MU', 'MZ', 'AO', 'CI', 'DJ', 'ZM', 'CD', 'CG', 'IQ', 'LY', 'TJ', 'VE', 'ET', 'XK'], 'disc_number': 1, 'duration_ms': 176363, 'explicit': False, 'external_ids': {'isrc': 'QZK6M2212622'}, 'external_urls': {'spotify': 'https://open.spotify.com/track/1Jtmf1gPFCGxCQ3ECacxBM'}, 'href': 'https://api.spotify.com/v1/tracks/1Jtmf1gPFCGxCQ3ECacxBM', 'id': '1Jtmf1gPFCGxCQ3ECacxBM', 'is_local': False, 'name': 'The Roblox Song', 'popularity': 35, 'preview_url': 'https://p.scdn.co/mp3-preview/ab6de1fbffc9d5451d862b2162b525425cf1e6c1?cid=732aa669f4d64d7dbfe9a61a281ab23f', 'track_number': 1, 'type': 'track', 'uri': 'spotify:track:1Jtmf1gPFCGxCQ3ECacxBM'}, {'album': {'album_type': 'single', 'artists': [{'external_urls': {'spotify': 'https://open.spotify.com/artist/7jkUG7asv5cjORIh769EvG'}, 'href': 'https://api.spotify.com/v1/artists/7jkUG7asv5cjORIh769EvG', 'id': '7jkUG7asv5cjORIh769EvG', 'name': 'Misutra', 'type': 'artist', 'uri': 'spotify:artist:7jkUG7asv5cjORIh769EvG'}], 'available_markets': ['AR', 'AU', 'AT', 'BE', 'BO', 'BR', 'BG', 'CA', 'CL', 'CO', 'CR', 'CY', 'CZ', 'DK', 'DO', 'DE', 'EC', 'EE', 'SV', 'FI', 'FR', 'GR', 'GT', 'HN', 'HK', 'HU', 'IS', 'IE', 'IT', 'LV', 'LT', 'LU', 'MY', 'MT', 'MX', 'NL', 'NZ', 'NI', 'NO', 'PA', 'PY', 'PE', 'PH', 'PL', 'PT', 'SG', 'SK', 'ES', 'SE', 'CH', 'TW', 'TR', 'UY', 'US', 'GB', 'AD', 'LI', 'MC', 'ID', 'JP', 'TH', 'VN', 'RO', 'IL', 'ZA', 'SA', 'AE', 'BH', 'QA', 'OM', 'KW', 'EG', 'MA', 'DZ', 'TN', 'LB', 'JO', 'PS', 'IN', 'BY', 'KZ', 'MD', 'UA', 'AL', 'BA', 'HR', 'ME', 'MK', 'RS', 'SI', 'KR', 'BD', 'PK', 'LK', 'GH', 'KE', 'NG', 'TZ', 'UG', 'AG', 'AM', 'BS', 'BB', 'BZ', 'BT', 'BW', 'BF', 'CV', 'CW', 'DM', 'FJ', 'GM', 'GE', 'GD', 'GW', 'GY', 'HT', 'JM', 'KI', 'LS', 'LR', 'MW', 'MV', 'ML', 'MH', 'FM', 'NA', 'NR', 'NE', 'PW', 'PG', 'PR', 'WS', 'SM', 'ST', 'SN', 'SC', 'SL', 'SB', 'KN', 'LC', 'VC', 'SR', 'TL', 'TO', 'TT', 'TV', 'VU', 'AZ', 'BN', 'BI', 'KH', 'CM', 'TD', 'KM', 'GQ', 'SZ', 'GA', 'GN', 'KG', 'LA', 'MO', 'MR', 'MN', 'NP', 'RW', 'TG', 'UZ', 'ZW', 'BJ', 'MG', 'MU', 'MZ', 'AO', 'CI', 'DJ', 'ZM', 'CD', 'CG', 'IQ', 'LY', 'TJ', 'VE', 'ET', 'XK'], 'external_urls': {'spotify': 'https://open.spotify.com/album/1eaGqERfrvAOU1FFu7fgZF'}, 'href': 'https://api.spotify.com/v1/albums/1eaGqERfrvAOU1FFu7fgZF', 'id': '1eaGqERfrvAOU1FFu7fgZF', 'images': [{'height': 640, 'url': 'https://i.scdn.co/image/ab67616d0000b2733eaeeedb8bf61a76eab17d58', 'width': 640}, {'height': 300, 'url': 'https://i.scdn.co/image/ab67616d00001e023eaeeedb8bf61a76eab17d58', 'width': 300}, {'height': 64, 'url': 'https://i.scdn.co/image/ab67616d000048513eaeeedb8bf61a76eab17d58', 'width': 64}], 'name': 'Roblox NEW DEATH SOUND Song', 'release_date': '2022-07-31', 'release_date_precision': 'day', 'total_tracks': 1, 'type': 'album', 'uri': 'spotify:album:1eaGqERfrvAOU1FFu7fgZF'}, 'artists': [{'external_urls': {'spotify': 'https://open.spotify.com/artist/7jkUG7asv5cjORIh769EvG'}, 'href': 'https://api.spotify.com/v1/artists/7jkUG7asv5cjORIh769EvG', 'id': '7jkUG7asv5cjORIh769EvG', 'name': 'Misutra', 'type': 'artist', 'uri': 'spotify:artist:7jkUG7asv5cjORIh769EvG'}], 'available_markets': ['AR', 'AU', 'AT', 'BE', 'BO', 'BR', 'BG', 'CA', 'CL', 'CO', 'CR', 'CY', 'CZ', 'DK', 'DO', 'DE', 'EC', 'EE', 'SV', 'FI', 'FR', 'GR', 'GT', 'HN', 'HK', 'HU', 'IS', 'IE', 'IT', 'LV', 'LT', 'LU', 'MY', 'MT', 'MX', 'NL', 'NZ', 'NI', 'NO', 'PA', 'PY', 'PE', 'PH', 'PL', 'PT', 'SG', 'SK', 'ES', 'SE', 'CH', 'TW', 'TR', 'UY', 'US', 'GB', 'AD', 'LI', 'MC', 'ID', 'JP', 'TH', 'VN', 'RO', 'IL', 'ZA', 'SA', 'AE', 'BH', 'QA', 'OM', 'KW', 'EG', 'MA', 'DZ', 'TN', 'LB', 'JO', 'PS', 'IN', 'BY', 'KZ', 'MD', 'UA', 'AL', 'BA', 'HR', 'ME', 'MK', 'RS', 'SI', 'KR', 'BD', 'PK', 'LK', 'GH', 'KE', 'NG', 'TZ', 'UG', 'AG', 'AM', 'BS', 'BB', 'BZ', 'BT', 'BW', 'BF', 'CV', 'CW', 'DM', 'FJ', 'GM', 'GE', 'GD', 'GW', 'GY', 'HT', 'JM', 'KI', 'LS', 'LR', 'MW', 'MV', 'ML', 'MH', 'FM', 'NA', 'NR', 'NE', 'PW', 'PG', 'PR', 'WS', 'SM', 'ST', 'SN', 'SC', 'SL', 'SB', 'KN', 'LC', 'VC', 'SR', 'TL', 'TO', 'TT', 'TV', 'VU', 'AZ', 'BN', 'BI', 'KH', 'CM', 'TD', 'KM', 'GQ', 'SZ', 'GA', 'GN', 'KG', 'LA', 'MO', 'MR', 'MN', 'NP', 'RW', 'TG', 'UZ', 'ZW', 'BJ', 'MG', 'MU', 'MZ', 'AO', 'CI', 'DJ', 'ZM', 'CD', 'CG', 'IQ', 'LY', 'TJ', 'VE', 'ET', 'XK'], 'disc_number': 1, 'duration_ms': 195692, 'explicit': False, 'external_ids': {'isrc': 'QZMEQ2238286'}, 'external_urls': {'spotify': 'https://open.spotify.com/track/3bOfPDEW0gJnwNBiEOWAMz'}, 'href': 'https://api.spotify.com/v1/tracks/3bOfPDEW0gJnwNBiEOWAMz', 'id': '3bOfPDEW0gJnwNBiEOWAMz', 'is_local': False, 'name': 'Roblox NEW DEATH SOUND Song', 'popularity': 36, 'preview_url': 'https://p.scdn.co/mp3-preview/a26cdc0af56509157e9e37da206c794e0e997a83?cid=732aa669f4d64d7dbfe9a61a281ab23f', 'track_number': 1, 'type': 'track', 'uri': 'spotify:track:3bOfPDEW0gJnwNBiEOWAMz'}, {'album': {'album_type': 'single', 'artists': [{'external_urls': {'spotify': 'https://open.spotify.com/artist/5fYpjzyIlOPN39ALSPv7fG'}, 'href': 'https://api.spotify.com/v1/artists/5fYpjzyIlOPN39ALSPv7fG', 'id': '5fYpjzyIlOPN39ALSPv7fG', 'name': 'Mr Miln', 'type': 'artist', 'uri': 'spotify:artist:5fYpjzyIlOPN39ALSPv7fG'}], 'available_markets': ['AR', 'AU', 'AT', 'BE', 'BO', 'BR', 'BG', 'CA', 'CL', 'CO', 'CR', 'CY', 'CZ', 'DK', 'DO', 'DE', 'EC', 'EE', 'SV', 'FI', 'FR', 'GR', 'GT', 'HN', 'HK', 'HU', 'IS', 'IE', 'IT', 'LV', 'LT', 'LU', 'MY', 'MT', 'MX', 'NL', 'NZ', 'NI', 'NO', 'PA', 'PY', 'PE', 'PH', 'PL', 'PT', 'SG', 'SK', 'ES', 'SE', 'CH', 'TW', 'TR', 'UY', 'US', 'GB', 'AD', 'LI', 'MC', 'ID', 'JP', 'TH', 'VN', 'RO', 'IL', 'ZA', 'SA', 'AE', 'BH', 'QA', 'OM', 'KW', 'EG', 'MA', 'DZ', 'TN', 'LB', 'JO', 'PS', 'IN', 'BY', 'KZ', 'MD', 'UA', 'AL', 'BA', 'HR', 'ME', 'MK', 'RS', 'SI', 'KR', 'BD', 'PK', 'LK', 'GH', 'KE', 'NG', 'TZ', 'UG', 'AG', 'AM', 'BS', 'BB', 'BZ', 'BT', 'BW', 'BF', 'CV', 'CW', 'DM', 'FJ', 'GM', 'GE', 'GD', 'GW', 'GY', 'HT', 'JM', 'KI', 'LS', 'LR', 'MW', 'MV', 'ML', 'MH', 'FM', 'NA', 'NR', 'NE', 'PW', 'PG', 'PR', 'WS', 'SM', 'ST', 'SN', 'SC', 'SL', 'SB', 'KN', 'LC', 'VC', 'SR', 'TL', 'TO', 'TT', 'TV', 'VU', 'AZ', 'BN', 'BI', 'KH', 'CM', 'TD', 'KM', 'GQ', 'SZ', 'GA', 'GN', 'KG', 'LA', 'MO', 'MR', 'MN', 'NP', 'RW', 'TG', 'UZ', 'ZW', 'BJ', 'MG', 'MU', 'MZ', 'AO', 'CI', 'DJ', 'ZM', 'CD', 'CG', 'IQ', 'LY', 'TJ', 'VE', 'ET', 'XK'], 'external_urls': {'spotify': 'https://open.spotify.com/album/6KKbni6axIq1zLV11B5N79'}, 'href': 'https://api.spotify.com/v1/albums/6KKbni6axIq1zLV11B5N79', 'id': '6KKbni6axIq1zLV11B5N79', 'images': [{'height': 640, 'url': 'https://i.scdn.co/image/ab67616d0000b27396e2c657d81dc84e655da981', 'width': 640}, {'height': 300, 'url': 'https://i.scdn.co/image/ab67616d00001e0296e2c657d81dc84e655da981', 'width': 300}, {'height': 64, 'url': 'https://i.scdn.co/image/ab67616d0000485196e2c657d81dc84e655da981', 'width': 64}], 'name': 'Robloxian Struggles (Playing Without Robux)', 'release_date': '2019-05-11', 'release_date_precision': 'day', 'total_tracks': 1, 'type': 'album', 'uri': 'spotify:album:6KKbni6axIq1zLV11B5N79'}, 'artists': [{'external_urls': {'spotify': 'https://open.spotify.com/artist/5fYpjzyIlOPN39ALSPv7fG'}, 'href': 'https://api.spotify.com/v1/artists/5fYpjzyIlOPN39ALSPv7fG', 'id': '5fYpjzyIlOPN39ALSPv7fG', 'name': 'Mr Miln', 'type': 'artist', 'uri': 'spotify:artist:5fYpjzyIlOPN39ALSPv7fG'}], 'available_markets': ['AR', 'AU', 'AT', 'BE', 'BO', 'BR', 'BG', 'CA', 'CL', 'CO', 'CR', 'CY', 'CZ', 'DK', 'DO', 'DE', 'EC', 'EE', 'SV', 'FI', 'FR', 'GR', 'GT', 'HN', 'HK', 'HU', 'IS', 'IE', 'IT', 'LV', 'LT', 'LU', 'MY', 'MT', 'MX', 'NL', 'NZ', 'NI', 'NO', 'PA', 'PY', 'PE', 'PH', 'PL', 'PT', 'SG', 'SK', 'ES', 'SE', 'CH', 'TW', 'TR', 'UY', 'US', 'GB', 'AD', 'LI', 'MC', 'ID', 'JP', 'TH', 'VN', 'RO', 'IL', 'ZA', 'SA', 'AE', 'BH', 'QA', 'OM', 'KW', 'EG', 'MA', 'DZ', 'TN', 'LB', 'JO', 'PS', 'IN', 'BY', 'KZ', 'MD', 'UA', 'AL', 'BA', 'HR', 'ME', 'MK', 'RS', 'SI', 'KR', 'BD', 'PK', 'LK', 'GH', 'KE', 'NG', 'TZ', 'UG', 'AG', 'AM', 'BS', 'BB', 'BZ', 'BT', 'BW', 'BF', 'CV', 'CW', 'DM', 'FJ', 'GM', 'GE', 'GD', 'GW', 'GY', 'HT', 'JM', 'KI', 'LS', 'LR', 'MW', 'MV', 'ML', 'MH', 'FM', 'NA', 'NR', 'NE', 'PW', 'PG', 'PR', 'WS', 'SM', 'ST', 'SN', 'SC', 'SL', 'SB', 'KN', 'LC', 'VC', 'SR', 'TL', 'TO', 'TT', 'TV', 'VU', 'AZ', 'BN', 'BI', 'KH', 'CM', 'TD', 'KM', 'GQ', 'SZ', 'GA', 'GN', 'KG', 'LA', 'MO', 'MR', 'MN', 'NP', 'RW', 'TG', 'UZ', 'ZW', 'BJ', 'MG', 'MU', 'MZ', 'AO', 'CI', 'DJ', 'ZM', 'CD', 'CG', 'IQ', 'LY', 'TJ', 'VE', 'ET', 'XK'], 'disc_number': 1, 'duration_ms': 161937, 'explicit': False, 'external_ids': {'isrc': 'QZES91913762'}, 'external_urls': {'spotify': 'https://open.spotify.com/track/2CZQ1guWGFtAXrbDP6eZzj'}, 'href': 'https://api.spotify.com/v1/tracks/2CZQ1guWGFtAXrbDP6eZzj', 'id': '2CZQ1guWGFtAXrbDP6eZzj', 'is_local': False, 'name': 'Robloxian Struggles (Playing Without Robux)', 'popularity': 37, 'preview_url': 'https://p.scdn.co/mp3-preview/5bafac0004065a9f96fd6042ec0d9aa530c181dc?cid=732aa669f4d64d7dbfe9a61a281ab23f', 'track_number': 1, 'type': 'track', 'uri': 'spotify:track:2CZQ1guWGFtAXrbDP6eZzj'}, {'album': {'album_type': 'single', 'artists': [{'external_urls': {'spotify': 'https://open.spotify.com/artist/5ZW1R5JS4WcZiDOmpfhS7d'}, 'href': 'https://api.spotify.com/v1/artists/5ZW1R5JS4WcZiDOmpfhS7d', 'id': '5ZW1R5JS4WcZiDOmpfhS7d', 'name': 'Lankybox', 'type': 'artist', 'uri': 'spotify:artist:5ZW1R5JS4WcZiDOmpfhS7d'}], 'available_markets': ['AR', 'AU', 'AT', 'BE', 'BO', 'BR', 'BG', 'CA', 'CL', 'CO', 'CR', 'CY', 'CZ', 'DK', 'DO', 'DE', 'EC', 'EE', 'SV', 'FI', 'FR', 'GR', 'GT', 'HN', 'HK', 'HU', 'IS', 'IE', 'IT', 'LV', 'LT', 'LU', 'MY', 'MT', 'MX', 'NL', 'NZ', 'NI', 'NO', 'PA', 'PY', 'PE', 'PH', 'PL', 'PT', 'SG', 'SK', 'ES', 'SE', 'CH', 'TW', 'TR', 'UY', 'US', 'GB', 'AD', 'LI', 'MC', 'ID', 'JP', 'TH', 'VN', 'RO', 'IL', 'ZA', 'SA', 'AE', 'BH', 'QA', 'OM', 'KW', 'EG', 'MA', 'DZ', 'TN', 'LB', 'JO', 'PS', 'IN', 'BY', 'KZ', 'MD', 'UA', 'AL', 'BA', 'HR', 'ME', 'MK', 'RS', 'SI', 'KR', 'BD', 'PK', 'LK', 'GH', 'KE', 'NG', 'TZ', 'UG', 'AG', 'AM', 'BS', 'BB', 'BZ', 'BT', 'BW', 'BF', 'CV', 'CW', 'DM', 'FJ', 'GM', 'GE', 'GD', 'GW', 'GY', 'HT', 'JM', 'KI', 'LS', 'LR', 'MW', 'MV', 'ML', 'MH', 'FM', 'NA', 'NR', 'NE', 'PW', 'PG', 'PR', 'WS', 'SM', 'ST', 'SN', 'SC', 'SL', 'SB', 'KN', 'LC', 'VC', 'SR', 'TL', 'TO', 'TT', 'TV', 'VU', 'AZ', 'BN', 'BI', 'KH', 'CM', 'TD', 'KM', 'GQ', 'SZ', 'GA', 'GN', 'KG', 'LA', 'MO', 'MR', 'MN', 'NP', 'RW', 'TG', 'UZ', 'ZW', 'BJ', 'MG', 'MU', 'MZ', 'AO', 'CI', 'DJ', 'ZM', 'CD', 'CG', 'IQ', 'LY', 'TJ', 'VE', 'ET', 'XK'], 'external_urls': {'spotify': 'https://open.spotify.com/album/105N6V4ZTa4HaIf7WetoY3'}, 'href': 'https://api.spotify.com/v1/albums/105N6V4ZTa4HaIf7WetoY3', 'id': '105N6V4ZTa4HaIf7WetoY3', 'images': [{'height': 640, 'url': 'https://i.scdn.co/image/ab67616d0000b27348f449c560bc641b64287724', 'width': 640}, {'height': 300, 'url': 'https://i.scdn.co/image/ab67616d00001e0248f449c560bc641b64287724', 'width': 300}, {'height': 64, 'url': 'https://i.scdn.co/image/ab67616d0000485148f449c560bc641b64287724', 'width': 64}], 'name': 'Ultimate Roblox Adopt Me Song', 'release_date': '2020-08-13', 'release_date_precision': 'day', 'total_tracks': 1, 'type': 'album', 'uri': 'spotify:album:105N6V4ZTa4HaIf7WetoY3'}, 'artists': [{'external_urls': {'spotify': 'https://open.spotify.com/artist/5ZW1R5JS4WcZiDOmpfhS7d'}, 'href': 'https://api.spotify.com/v1/artists/5ZW1R5JS4WcZiDOmpfhS7d', 'id': '5ZW1R5JS4WcZiDOmpfhS7d', 'name': 'Lankybox', 'type': 'artist', 'uri': 'spotify:artist:5ZW1R5JS4WcZiDOmpfhS7d'}], 'available_markets': ['AR', 'AU', 'AT', 'BE', 'BO', 'BR', 'BG', 'CA', 'CL', 'CO', 'CR', 'CY', 'CZ', 'DK', 'DO', 'DE', 'EC', 'EE', 'SV', 'FI', 'FR', 'GR', 'GT', 'HN', 'HK', 'HU', 'IS', 'IE', 'IT', 'LV', 'LT', 'LU', 'MY', 'MT', 'MX', 'NL', 'NZ', 'NI', 'NO', 'PA', 'PY', 'PE', 'PH', 'PL', 'PT', 'SG', 'SK', 'ES', 'SE', 'CH', 'TW', 'TR', 'UY', 'US', 'GB', 'AD', 'LI', 'MC', 'ID', 'JP', 'TH', 'VN', 'RO', 'IL', 'ZA', 'SA', 'AE', 'BH', 'QA', 'OM', 'KW', 'EG', 'MA', 'DZ', 'TN', 'LB', 'JO', 'PS', 'IN', 'BY', 'KZ', 'MD', 'UA', 'AL', 'BA', 'HR', 'ME', 'MK', 'RS', 'SI', 'KR', 'BD', 'PK', 'LK', 'GH', 'KE', 'NG', 'TZ', 'UG', 'AG', 'AM', 'BS', 'BB', 'BZ', 'BT', 'BW', 'BF', 'CV', 'CW', 'DM', 'FJ', 'GM', 'GE', 'GD', 'GW', 'GY', 'HT', 'JM', 'KI', 'LS', 'LR', 'MW', 'MV', 'ML', 'MH', 'FM', 'NA', 'NR', 'NE', 'PW', 'PG', 'PR', 'WS', 'SM', 'ST', 'SN', 'SC', 'SL', 'SB', 'KN', 'LC', 'VC', 'SR', 'TL', 'TO', 'TT', 'TV', 'VU', 'AZ', 'BN', 'BI', 'KH', 'CM', 'TD', 'KM', 'GQ', 'SZ', 'GA', 'GN', 'KG', 'LA', 'MO', 'MR', 'MN', 'NP', 'RW', 'TG', 'UZ', 'ZW', 'BJ', 'MG', 'MU', 'MZ', 'AO', 'CI', 'DJ', 'ZM', 'CD', 'CG', 'IQ', 'LY', 'TJ', 'VE', 'ET', 'XK'], 'disc_number': 1, 'duration_ms': 107376, 'explicit': False, 'external_ids': {'isrc': 'QZNWU2171122'}, 'external_urls': {'spotify': 'https://open.spotify.com/track/3UDis2q4ANjASW2O3M9Gok'}, 'href': 'https://api.spotify.com/v1/tracks/3UDis2q4ANjASW2O3M9Gok', 'id': '3UDis2q4ANjASW2O3M9Gok', 'is_local': False, 'name': 'Ultimate Roblox Adopt Me Song', 'popularity': 39, 'preview_url': 'https://p.scdn.co/mp3-preview/62290eb3cce2763cdf59fb327d567f4aad77677b?cid=732aa669f4d64d7dbfe9a61a281ab23f', 'track_number': 1, 'type': 'track', 'uri': 'spotify:track:3UDis2q4ANjASW2O3M9Gok'}, {'album': {'album_type': 'album', 'artists': [{'external_urls': {'spotify': 'https://open.spotify.com/artist/64JnTLWu6BRluLTlgge3FB'}, 'href': 'https://api.spotify.com/v1/artists/64JnTLWu6BRluLTlgge3FB', 'id': '64JnTLWu6BRluLTlgge3FB', 'name': 'Uglyburger0', 'type': 'artist', 'uri': 'spotify:artist:64JnTLWu6BRluLTlgge3FB'}], 'available_markets': ['AR', 'AU', 'AT', 'BE', 'BO', 'BR', 'BG', 'CA', 'CL', 'CO', 'CR', 'CY', 'CZ', 'DK', 'DO', 'DE', 'EC', 'EE', 'SV', 'FI', 'FR', 'GR', 'GT', 'HN', 'HK', 'HU', 'IS', 'IE', 'IT', 'LV', 'LT', 'LU', 'MY', 'MT', 'MX', 'NL', 'NZ', 'NI', 'NO', 'PA', 'PY', 'PE', 'PH', 'PL', 'PT', 'SG', 'SK', 'ES', 'SE', 'CH', 'TW', 'TR', 'UY', 'US', 'GB', 'AD', 'LI', 'MC', 'ID', 'JP', 'TH', 'VN', 'RO', 'IL', 'ZA', 'SA', 'AE', 'BH', 'QA', 'OM', 'KW', 'EG', 'MA', 'DZ', 'TN', 'LB', 'JO', 'PS', 'IN', 'BY', 'KZ', 'MD', 'UA', 'AL', 'BA', 'HR', 'ME', 'MK', 'RS', 'SI', 'KR', 'BD', 'PK', 'LK', 'GH', 'KE', 'NG', 'TZ', 'UG', 'AG', 'AM', 'BS', 'BB', 'BZ', 'BT', 'BW', 'BF', 'CV', 'CW', 'DM', 'FJ', 'GM', 'GE', 'GD', 'GW', 'GY', 'HT', 'JM', 'KI', 'LS', 'LR', 'MW', 'MV', 'ML', 'MH', 'FM', 'NA', 'NR', 'NE', 'PW', 'PG', 'PR', 'WS', 'SM', 'ST', 'SN', 'SC', 'SL', 'SB', 'KN', 'LC', 'VC', 'SR', 'TL', 'TO', 'TT', 'TV', 'VU', 'AZ', 'BN', 'BI', 'KH', 'CM', 'TD', 'KM', 'GQ', 'SZ', 'GA', 'GN', 'KG', 'LA', 'MO', 'MR', 'MN', 'NP', 'RW', 'TG', 'UZ', 'ZW', 'BJ', 'MG', 'MU', 'MZ', 'AO', 'CI', 'DJ', 'ZM', 'CD', 'CG', 'IQ', 'LY', 'TJ', 'VE', 'ET', 'XK'], 'external_urls': {'spotify': 'https://open.spotify.com/album/0coVTwj8xht3SmyIjkdkkx'}, 'href': 'https://api.spotify.com/v1/albums/0coVTwj8xht3SmyIjkdkkx', 'id': '0coVTwj8xht3SmyIjkdkkx', 'images': [{'height': 640, 'url': 'https://i.scdn.co/image/ab67616d0000b2730bae9455b021575abfa49831', 'width': 640}, {'height': 300, 'url': 'https://i.scdn.co/image/ab67616d00001e020bae9455b021575abfa49831', 'width': 300}, {'height': 64, 'url': 'https://i.scdn.co/image/ab67616d000048510bae9455b021575abfa49831', 'width': 64}], 'name': 'Roblox 3008, Vol. 1 (Original Soundtrack)', 'release_date': '2020-09-03', 'release_date_precision': 'day', 'total_tracks': 11, 'type': 'album', 'uri': 'spotify:album:0coVTwj8xht3SmyIjkdkkx'}, 'artists': [{'external_urls': {'spotify': 'https://open.spotify.com/artist/64JnTLWu6BRluLTlgge3FB'}, 'href': 'https://api.spotify.com/v1/artists/64JnTLWu6BRluLTlgge3FB', 'id': '64JnTLWu6BRluLTlgge3FB', 'name': 'Uglyburger0', 'type': 'artist', 'uri': 'spotify:artist:64JnTLWu6BRluLTlgge3FB'}], 'available_markets': ['AR', 'AU', 'AT', 'BE', 'BO', 'BR', 'BG', 'CA', 'CL', 'CO', 'CR', 'CY', 'CZ', 'DK', 'DO', 'DE', 'EC', 'EE', 'SV', 'FI', 'FR', 'GR', 'GT', 'HN', 'HK', 'HU', 'IS', 'IE', 'IT', 'LV', 'LT', 'LU', 'MY', 'MT', 'MX', 'NL', 'NZ', 'NI', 'NO', 'PA', 'PY', 'PE', 'PH', 'PL', 'PT', 'SG', 'SK', 'ES', 'SE', 'CH', 'TW', 'TR', 'UY', 'US', 'GB', 'AD', 'LI', 'MC', 'ID', 'JP', 'TH', 'VN', 'RO', 'IL', 'ZA', 'SA', 'AE', 'BH', 'QA', 'OM', 'KW', 'EG', 'MA', 'DZ', 'TN', 'LB', 'JO', 'PS', 'IN', 'BY', 'KZ', 'MD', 'UA', 'AL', 'BA', 'HR', 'ME', 'MK', 'RS', 'SI', 'KR', 'BD', 'PK', 'LK', 'GH', 'KE', 'NG', 'TZ', 'UG', 'AG', 'AM', 'BS', 'BB', 'BZ', 'BT', 'BW', 'BF', 'CV', 'CW', 'DM', 'FJ', 'GM', 'GE', 'GD', 'GW', 'GY', 'HT', 'JM', 'KI', 'LS', 'LR', 'MW', 'MV', 'ML', 'MH', 'FM', 'NA', 'NR', 'NE', 'PW', 'PG', 'PR', 'WS', 'SM', 'ST', 'SN', 'SC', 'SL', 'SB', 'KN', 'LC', 'VC', 'SR', 'TL', 'TO', 'TT', 'TV', 'VU', 'AZ', 'BN', 'BI', 'KH', 'CM', 'TD', 'KM', 'GQ', 'SZ', 'GA', 'GN', 'KG', 'LA', 'MO', 'MR', 'MN', 'NP', 'RW', 'TG', 'UZ', 'ZW', 'BJ', 'MG', 'MU', 'MZ', 'AO', 'CI', 'DJ', 'ZM', 'CD', 'CG', 'IQ', 'LY', 'TJ', 'VE', 'ET', 'XK'], 'disc_number': 1, 'duration_ms': 81711, 'explicit': False, 'external_ids': {'isrc': 'QZK6K2056438'}, 'external_urls': {'spotify': 'https://open.spotify.com/track/6ZPcH0qapLpoVaiV3qgsmv'}, 'href': 'https://api.spotify.com/v1/tracks/6ZPcH0qapLpoVaiV3qgsmv', 'id': '6ZPcH0qapLpoVaiV3qgsmv', 'is_local': False, 'name': 'Friday Theme', 'popularity': 62, 'preview_url': 'https://p.scdn.co/mp3-preview/38a61507887d89a80988b648dd62767adeaa2544?cid=732aa669f4d64d7dbfe9a61a281ab23f', 'track_number': 5, 'type': 'track', 'uri': 'spotify:track:6ZPcH0qapLpoVaiV3qgsmv'}, {'album': {'album_type': 'album', 'artists': [{'external_urls': {'spotify': 'https://open.spotify.com/artist/64JnTLWu6BRluLTlgge3FB'}, 'href': 'https://api.spotify.com/v1/artists/64JnTLWu6BRluLTlgge3FB', 'id': '64JnTLWu6BRluLTlgge3FB', 'name': 'Uglyburger0', 'type': 'artist', 'uri': 'spotify:artist:64JnTLWu6BRluLTlgge3FB'}], 'available_markets': ['AR', 'AU', 'AT', 'BE', 'BO', 'BR', 'BG', 'CA', 'CL', 'CO', 'CR', 'CY', 'CZ', 'DK', 'DO', 'DE', 'EC', 'EE', 'SV', 'FI', 'FR', 'GR', 'GT', 'HN', 'HK', 'HU', 'IS', 'IE', 'IT', 'LV', 'LT', 'LU', 'MY', 'MT', 'MX', 'NL', 'NZ', 'NI', 'NO', 'PA', 'PY', 'PE', 'PH', 'PL', 'PT', 'SG', 'SK', 'ES', 'SE', 'CH', 'TW', 'TR', 'UY', 'US', 'GB', 'AD', 'LI', 'MC', 'ID', 'JP', 'TH', 'VN', 'RO', 'IL', 'ZA', 'SA', 'AE', 'BH', 'QA', 'OM', 'KW', 'EG', 'MA', 'DZ', 'TN', 'LB', 'JO', 'PS', 'IN', 'BY', 'KZ', 'MD', 'UA', 'AL', 'BA', 'HR', 'ME', 'MK', 'RS', 'SI', 'KR', 'BD', 'PK', 'LK', 'GH', 'KE', 'NG', 'TZ', 'UG', 'AG', 'AM', 'BS', 'BB', 'BZ', 'BT', 'BW', 'BF', 'CV', 'CW', 'DM', 'FJ', 'GM', 'GE', 'GD', 'GW', 'GY', 'HT', 'JM', 'KI', 'LS', 'LR', 'MW', 'MV', 'ML', 'MH', 'FM', 'NA', 'NR', 'NE', 'PW', 'PG', 'PR', 'WS', 'SM', 'ST', 'SN', 'SC', 'SL', 'SB', 'KN', 'LC', 'VC', 'SR', 'TL', 'TO', 'TT', 'TV', 'VU', 'AZ', 'BN', 'BI', 'KH', 'CM', 'TD', 'KM', 'GQ', 'SZ', 'GA', 'GN', 'KG', 'LA', 'MO', 'MR', 'MN', 'NP', 'RW', 'TG', 'UZ', 'ZW', 'BJ', 'MG', 'MU', 'MZ', 'AO', 'CI', 'DJ', 'ZM', 'CD', 'CG', 'IQ', 'LY', 'TJ', 'VE', 'ET', 'XK'], 'external_urls': {'spotify': 'https://open.spotify.com/album/0coVTwj8xht3SmyIjkdkkx'}, 'href': 'https://api.spotify.com/v1/albums/0coVTwj8xht3SmyIjkdkkx', 'id': '0coVTwj8xht3SmyIjkdkkx', 'images': [{'height': 640, 'url': 'https://i.scdn.co/image/ab67616d0000b2730bae9455b021575abfa49831', 'width': 640}, {'height': 300, 'url': 'https://i.scdn.co/image/ab67616d00001e020bae9455b021575abfa49831', 'width': 300}, {'height': 64, 'url': 'https://i.scdn.co/image/ab67616d000048510bae9455b021575abfa49831', 'width': 64}], 'name': 'Roblox 3008, Vol. 1 (Original Soundtrack)', 'release_date': '2020-09-03', 'release_date_precision': 'day', 'total_tracks': 11, 'type': 'album', 'uri': 'spotify:album:0coVTwj8xht3SmyIjkdkkx'}, 'artists': [{'external_urls': {'spotify': 'https://open.spotify.com/artist/64JnTLWu6BRluLTlgge3FB'}, 'href': 'https://api.spotify.com/v1/artists/64JnTLWu6BRluLTlgge3FB', 'id': '64JnTLWu6BRluLTlgge3FB', 'name': 'Uglyburger0', 'type': 'artist', 'uri': 'spotify:artist:64JnTLWu6BRluLTlgge3FB'}], 'available_markets': ['AR', 'AU', 'AT', 'BE', 'BO', 'BR', 'BG', 'CA', 'CL', 'CO', 'CR', 'CY', 'CZ', 'DK', 'DO', 'DE', 'EC', 'EE', 'SV', 'FI', 'FR', 'GR', 'GT', 'HN', 'HK', 'HU', 'IS', 'IE', 'IT', 'LV', 'LT', 'LU', 'MY', 'MT', 'MX', 'NL', 'NZ', 'NI', 'NO', 'PA', 'PY', 'PE', 'PH', 'PL', 'PT', 'SG', 'SK', 'ES', 'SE', 'CH', 'TW', 'TR', 'UY', 'US', 'GB', 'AD', 'LI', 'MC', 'ID', 'JP', 'TH', 'VN', 'RO', 'IL', 'ZA', 'SA', 'AE', 'BH', 'QA', 'OM', 'KW', 'EG', 'MA', 'DZ', 'TN', 'LB', 'JO', 'PS', 'IN', 'BY', 'KZ', 'MD', 'UA', 'AL', 'BA', 'HR', 'ME', 'MK', 'RS', 'SI', 'KR', 'BD', 'PK', 'LK', 'GH', 'KE', 'NG', 'TZ', 'UG', 'AG', 'AM', 'BS', 'BB', 'BZ', 'BT', 'BW', 'BF', 'CV', 'CW', 'DM', 'FJ', 'GM', 'GE', 'GD', 'GW', 'GY', 'HT', 'JM', 'KI', 'LS', 'LR', 'MW', 'MV', 'ML', 'MH', 'FM', 'NA', 'NR', 'NE', 'PW', 'PG', 'PR', 'WS', 'SM', 'ST', 'SN', 'SC', 'SL', 'SB', 'KN', 'LC', 'VC', 'SR', 'TL', 'TO', 'TT', 'TV', 'VU', 'AZ', 'BN', 'BI', 'KH', 'CM', 'TD', 'KM', 'GQ', 'SZ', 'GA', 'GN', 'KG', 'LA', 'MO', 'MR', 'MN', 'NP', 'RW', 'TG', 'UZ', 'ZW', 'BJ', 'MG', 'MU', 'MZ', 'AO', 'CI', 'DJ', 'ZM', 'CD', 'CG', 'IQ', 'LY', 'TJ', 'VE', 'ET', 'XK'], 'disc_number': 1, 'duration_ms': 81711, 'explicit': False, 'external_ids': {'isrc': 'QZK6K2056434'}, 'external_urls': {'spotify': 'https://open.spotify.com/track/0b3F6hAcrjp4q8BFeYXDsh'}, 'href': 'https://api.spotify.com/v1/tracks/0b3F6hAcrjp4q8BFeYXDsh', 'id': '0b3F6hAcrjp4q8BFeYXDsh', 'is_local': False, 'name': 'Monday Theme', 'popularity': 50, 'preview_url': 'https://p.scdn.co/mp3-preview/fb30e9d8a4c22bfdef4e9fe9f51a344f61f7391b?cid=732aa669f4d64d7dbfe9a61a281ab23f', 'track_number': 1, 'type': 'track', 'uri': 'spotify:track:0b3F6hAcrjp4q8BFeYXDsh'}, {'album': {'album_type': 'album', 'artists': [{'external_urls': {'spotify': 'https://open.spotify.com/artist/64JnTLWu6BRluLTlgge3FB'}, 'href': 'https://api.spotify.com/v1/artists/64JnTLWu6BRluLTlgge3FB', 'id': '64JnTLWu6BRluLTlgge3FB', 'name': 'Uglyburger0', 'type': 'artist', 'uri': 'spotify:artist:64JnTLWu6BRluLTlgge3FB'}], 'available_markets': ['AR', 'AU', 'AT', 'BE', 'BO', 'BR', 'BG', 'CA', 'CL', 'CO', 'CR', 'CY', 'CZ', 'DK', 'DO', 'DE', 'EC', 'EE', 'SV', 'FI', 'FR', 'GR', 'GT', 'HN', 'HK', 'HU', 'IS', 'IE', 'IT', 'LV', 'LT', 'LU', 'MY', 'MT', 'MX', 'NL', 'NZ', 'NI', 'NO', 'PA', 'PY', 'PE', 'PH', 'PL', 'PT', 'SG', 'SK', 'ES', 'SE', 'CH', 'TW', 'TR', 'UY', 'US', 'GB', 'AD', 'LI', 'MC', 'ID', 'JP', 'TH', 'VN', 'RO', 'IL', 'ZA', 'SA', 'AE', 'BH', 'QA', 'OM', 'KW', 'EG', 'MA', 'DZ', 'TN', 'LB', 'JO', 'PS', 'IN', 'BY', 'KZ', 'MD', 'UA', 'AL', 'BA', 'HR', 'ME', 'MK', 'RS', 'SI', 'KR', 'BD', 'PK', 'LK', 'GH', 'KE', 'NG', 'TZ', 'UG', 'AG', 'AM', 'BS', 'BB', 'BZ', 'BT', 'BW', 'BF', 'CV', 'CW', 'DM', 'FJ', 'GM', 'GE', 'GD', 'GW', 'GY', 'HT', 'JM', 'KI', 'LS', 'LR', 'MW', 'MV', 'ML', 'MH', 'FM', 'NA', 'NR', 'NE', 'PW', 'PG', 'PR', 'WS', 'SM', 'ST', 'SN', 'SC', 'SL', 'SB', 'KN', 'LC', 'VC', 'SR', 'TL', 'TO', 'TT', 'TV', 'VU', 'AZ', 'BN', 'BI', 'KH', 'CM', 'TD', 'KM', 'GQ', 'SZ', 'GA', 'GN', 'KG', 'LA', 'MO', 'MR', 'MN', 'NP', 'RW', 'TG', 'UZ', 'ZW', 'BJ', 'MG', 'MU', 'MZ', 'AO', 'CI', 'DJ', 'ZM', 'CD', 'CG', 'IQ', 'LY', 'TJ', 'VE', 'ET', 'XK'], 'external_urls': {'spotify': 'https://open.spotify.com/album/0coVTwj8xht3SmyIjkdkkx'}, 'href': 'https://api.spotify.com/v1/albums/0coVTwj8xht3SmyIjkdkkx', 'id': '0coVTwj8xht3SmyIjkdkkx', 'images': [{'height': 640, 'url': 'https://i.scdn.co/image/ab67616d0000b2730bae9455b021575abfa49831', 'width': 640}, {'height': 300, 'url': 'https://i.scdn.co/image/ab67616d00001e020bae9455b021575abfa49831', 'width': 300}, {'height': 64, 'url': 'https://i.scdn.co/image/ab67616d000048510bae9455b021575abfa49831', 'width': 64}], 'name': 'Roblox 3008, Vol. 1 (Original Soundtrack)', 'release_date': '2020-09-03', 'release_date_precision': 'day', 'total_tracks': 11, 'type': 'album', 'uri': 'spotify:album:0coVTwj8xht3SmyIjkdkkx'}, 'artists': [{'external_urls': {'spotify': 'https://open.spotify.com/artist/64JnTLWu6BRluLTlgge3FB'}, 'href': 'https://api.spotify.com/v1/artists/64JnTLWu6BRluLTlgge3FB', 'id': '64JnTLWu6BRluLTlgge3FB', 'name': 'Uglyburger0', 'type': 'artist', 'uri': 'spotify:artist:64JnTLWu6BRluLTlgge3FB'}], 'available_markets': ['AR', 'AU', 'AT', 'BE', 'BO', 'BR', 'BG', 'CA', 'CL', 'CO', 'CR', 'CY', 'CZ', 'DK', 'DO', 'DE', 'EC', 'EE', 'SV', 'FI', 'FR', 'GR', 'GT', 'HN', 'HK', 'HU', 'IS', 'IE', 'IT', 'LV', 'LT', 'LU', 'MY', 'MT', 'MX', 'NL', 'NZ', 'NI', 'NO', 'PA', 'PY', 'PE', 'PH', 'PL', 'PT', 'SG', 'SK', 'ES', 'SE', 'CH', 'TW', 'TR', 'UY', 'US', 'GB', 'AD', 'LI', 'MC', 'ID', 'JP', 'TH', 'VN', 'RO', 'IL', 'ZA', 'SA', 'AE', 'BH', 'QA', 'OM', 'KW', 'EG', 'MA', 'DZ', 'TN', 'LB', 'JO', 'PS', 'IN', 'BY', 'KZ', 'MD', 'UA', 'AL', 'BA', 'HR', 'ME', 'MK', 'RS', 'SI', 'KR', 'BD', 'PK', 'LK', 'GH', 'KE', 'NG', 'TZ', 'UG', 'AG', 'AM', 'BS', 'BB', 'BZ', 'BT', 'BW', 'BF', 'CV', 'CW', 'DM', 'FJ', 'GM', 'GE', 'GD', 'GW', 'GY', 'HT', 'JM', 'KI', 'LS', 'LR', 'MW', 'MV', 'ML', 'MH', 'FM', 'NA', 'NR', 'NE', 'PW', 'PG', 'PR', 'WS', 'SM', 'ST', 'SN', 'SC', 'SL', 'SB', 'KN', 'LC', 'VC', 'SR', 'TL', 'TO', 'TT', 'TV', 'VU', 'AZ', 'BN', 'BI', 'KH', 'CM', 'TD', 'KM', 'GQ', 'SZ', 'GA', 'GN', 'KG', 'LA', 'MO', 'MR', 'MN', 'NP', 'RW', 'TG', 'UZ', 'ZW', 'BJ', 'MG', 'MU', 'MZ', 'AO', 'CI', 'DJ', 'ZM', 'CD', 'CG', 'IQ', 'LY', 'TJ', 'VE', 'ET', 'XK'], 'disc_number': 1, 'duration_ms': 85342, 'explicit': False, 'external_ids': {'isrc': 'QZK6K2056439'}, 'external_urls': {'spotify': 'https://open.spotify.com/track/7KUF5yFG4or0btjNbhQnwd'}, 'href': 'https://api.spotify.com/v1/tracks/7KUF5yFG4or0btjNbhQnwd', 'id': '7KUF5yFG4or0btjNbhQnwd', 'is_local': False, 'name': 'Saturday Theme', 'popularity': 48, 'preview_url': 'https://p.scdn.co/mp3-preview/d4a60131c54f79e6bb469dec31786906fc6af343?cid=732aa669f4d64d7dbfe9a61a281ab23f', 'track_number': 6, 'type': 'track', 'uri': 'spotify:track:7KUF5yFG4or0btjNbhQnwd'}, {'album': {'album_type': 'album', 'artists': [{'external_urls': {'spotify': 'https://open.spotify.com/artist/64JnTLWu6BRluLTlgge3FB'}, 'href': 'https://api.spotify.com/v1/artists/64JnTLWu6BRluLTlgge3FB', 'id': '64JnTLWu6BRluLTlgge3FB', 'name': 'Uglyburger0', 'type': 'artist', 'uri': 'spotify:artist:64JnTLWu6BRluLTlgge3FB'}], 'available_markets': ['AR', 'AU', 'AT', 'BE', 'BO', 'BR', 'BG', 'CA', 'CL', 'CO', 'CR', 'CY', 'CZ', 'DK', 'DO', 'DE', 'EC', 'EE', 'SV', 'FI', 'FR', 'GR', 'GT', 'HN', 'HK', 'HU', 'IS', 'IE', 'IT', 'LV', 'LT', 'LU', 'MY', 'MT', 'MX', 'NL', 'NZ', 'NI', 'NO', 'PA', 'PY', 'PE', 'PH', 'PL', 'PT', 'SG', 'SK', 'ES', 'SE', 'CH', 'TW', 'TR', 'UY', 'US', 'GB', 'AD', 'LI', 'MC', 'ID', 'JP', 'TH', 'VN', 'RO', 'IL', 'ZA', 'SA', 'AE', 'BH', 'QA', 'OM', 'KW', 'EG', 'MA', 'DZ', 'TN', 'LB', 'JO', 'PS', 'IN', 'BY', 'KZ', 'MD', 'UA', 'AL', 'BA', 'HR', 'ME', 'MK', 'RS', 'SI', 'KR', 'BD', 'PK', 'LK', 'GH', 'KE', 'NG', 'TZ', 'UG', 'AG', 'AM', 'BS', 'BB', 'BZ', 'BT', 'BW', 'BF', 'CV', 'CW', 'DM', 'FJ', 'GM', 'GE', 'GD', 'GW', 'GY', 'HT', 'JM', 'KI', 'LS', 'LR', 'MW', 'MV', 'ML', 'MH', 'FM', 'NA', 'NR', 'NE', 'PW', 'PG', 'PR', 'WS', 'SM', 'ST', 'SN', 'SC', 'SL', 'SB', 'KN', 'LC', 'VC', 'SR', 'TL', 'TO', 'TT', 'TV', 'VU', 'AZ', 'BN', 'BI', 'KH', 'CM', 'TD', 'KM', 'GQ', 'SZ', 'GA', 'GN', 'KG', 'LA', 'MO', 'MR', 'MN', 'NP', 'RW', 'TG', 'UZ', 'ZW', 'BJ', 'MG', 'MU', 'MZ', 'AO', 'CI', 'DJ', 'ZM', 'CD', 'CG', 'IQ', 'LY', 'TJ', 'VE', 'ET', 'XK'], 'external_urls': {'spotify': 'https://open.spotify.com/album/0coVTwj8xht3SmyIjkdkkx'}, 'href': 'https://api.spotify.com/v1/albums/0coVTwj8xht3SmyIjkdkkx', 'id': '0coVTwj8xht3SmyIjkdkkx', 'images': [{'height': 640, 'url': 'https://i.scdn.co/image/ab67616d0000b2730bae9455b021575abfa49831', 'width': 640}, {'height': 300, 'url': 'https://i.scdn.co/image/ab67616d00001e020bae9455b021575abfa49831', 'width': 300}, {'height': 64, 'url': 'https://i.scdn.co/image/ab67616d000048510bae9455b021575abfa49831', 'width': 64}], 'name': 'Roblox 3008, Vol. 1 (Original Soundtrack)', 'release_date': '2020-09-03', 'release_date_precision': 'day', 'total_tracks': 11, 'type': 'album', 'uri': 'spotify:album:0coVTwj8xht3SmyIjkdkkx'}, 'artists': [{'external_urls': {'spotify': 'https://open.spotify.com/artist/64JnTLWu6BRluLTlgge3FB'}, 'href': 'https://api.spotify.com/v1/artists/64JnTLWu6BRluLTlgge3FB', 'id': '64JnTLWu6BRluLTlgge3FB', 'name': 'Uglyburger0', 'type': 'artist', 'uri': 'spotify:artist:64JnTLWu6BRluLTlgge3FB'}], 'available_markets': ['AR', 'AU', 'AT', 'BE', 'BO', 'BR', 'BG', 'CA', 'CL', 'CO', 'CR', 'CY', 'CZ', 'DK', 'DO', 'DE', 'EC', 'EE', 'SV', 'FI', 'FR', 'GR', 'GT', 'HN', 'HK', 'HU', 'IS', 'IE', 'IT', 'LV', 'LT', 'LU', 'MY', 'MT', 'MX', 'NL', 'NZ', 'NI', 'NO', 'PA', 'PY', 'PE', 'PH', 'PL', 'PT', 'SG', 'SK', 'ES', 'SE', 'CH', 'TW', 'TR', 'UY', 'US', 'GB', 'AD', 'LI', 'MC', 'ID', 'JP', 'TH', 'VN', 'RO', 'IL', 'ZA', 'SA', 'AE', 'BH', 'QA', 'OM', 'KW', 'EG', 'MA', 'DZ', 'TN', 'LB', 'JO', 'PS', 'IN', 'BY', 'KZ', 'MD', 'UA', 'AL', 'BA', 'HR', 'ME', 'MK', 'RS', 'SI', 'KR', 'BD', 'PK', 'LK', 'GH', 'KE', 'NG', 'TZ', 'UG', 'AG', 'AM', 'BS', 'BB', 'BZ', 'BT', 'BW', 'BF', 'CV', 'CW', 'DM', 'FJ', 'GM', 'GE', 'GD', 'GW', 'GY', 'HT', 'JM', 'KI', 'LS', 'LR', 'MW', 'MV', 'ML', 'MH', 'FM', 'NA', 'NR', 'NE', 'PW', 'PG', 'PR', 'WS', 'SM', 'ST', 'SN', 'SC', 'SL', 'SB', 'KN', 'LC', 'VC', 'SR', 'TL', 'TO', 'TT', 'TV', 'VU', 'AZ', 'BN', 'BI', 'KH', 'CM', 'TD', 'KM', 'GQ', 'SZ', 'GA', 'GN', 'KG', 'LA', 'MO', 'MR', 'MN', 'NP', 'RW', 'TG', 'UZ', 'ZW', 'BJ', 'MG', 'MU', 'MZ', 'AO', 'CI', 'DJ', 'ZM', 'CD', 'CG', 'IQ', 'LY', 'TJ', 'VE', 'ET', 'XK'], 'disc_number': 1, 'duration_ms': 81711, 'explicit': False, 'external_ids': {'isrc': 'QZK6K2056436'}, 'external_urls': {'spotify': 'https://open.spotify.com/track/3O1GWQ4fbPHR3J7m1vIrYC'}, 'href': 'https://api.spotify.com/v1/tracks/3O1GWQ4fbPHR3J7m1vIrYC', 'id': '3O1GWQ4fbPHR3J7m1vIrYC', 'is_local': False, 'name': 'Wednesday Theme', 'popularity': 44, 'preview_url': 'https://p.scdn.co/mp3-preview/ee08d8a521655698ac480af3eee25cca9c5232da?cid=732aa669f4d64d7dbfe9a61a281ab23f', 'track_number': 3, 'type': 'track', 'uri': 'spotify:track:3O1GWQ4fbPHR3J7m1vIrYC'}, {'album': {'album_type': 'album', 'artists': [{'external_urls': {'spotify': 'https://open.spotify.com/artist/64JnTLWu6BRluLTlgge3FB'}, 'href': 'https://api.spotify.com/v1/artists/64JnTLWu6BRluLTlgge3FB', 'id': '64JnTLWu6BRluLTlgge3FB', 'name': 'Uglyburger0', 'type': 'artist', 'uri': 'spotify:artist:64JnTLWu6BRluLTlgge3FB'}], 'available_markets': ['AR', 'AU', 'AT', 'BE', 'BO', 'BR', 'BG', 'CA', 'CL', 'CO', 'CR', 'CY', 'CZ', 'DK', 'DO', 'DE', 'EC', 'EE', 'SV', 'FI', 'FR', 'GR', 'GT', 'HN', 'HK', 'HU', 'IS', 'IE', 'IT', 'LV', 'LT', 'LU', 'MY', 'MT', 'MX', 'NL', 'NZ', 'NI', 'NO', 'PA', 'PY', 'PE', 'PH', 'PL', 'PT', 'SG', 'SK', 'ES', 'SE', 'CH', 'TW', 'TR', 'UY', 'US', 'GB', 'AD', 'LI', 'MC', 'ID', 'JP', 'TH', 'VN', 'RO', 'IL', 'ZA', 'SA', 'AE', 'BH', 'QA', 'OM', 'KW', 'EG', 'MA', 'DZ', 'TN', 'LB', 'JO', 'PS', 'IN', 'BY', 'KZ', 'MD', 'UA', 'AL', 'BA', 'HR', 'ME', 'MK', 'RS', 'SI', 'KR', 'BD', 'PK', 'LK', 'GH', 'KE', 'NG', 'TZ', 'UG', 'AG', 'AM', 'BS', 'BB', 'BZ', 'BT', 'BW', 'BF', 'CV', 'CW', 'DM', 'FJ', 'GM', 'GE', 'GD', 'GW', 'GY', 'HT', 'JM', 'KI', 'LS', 'LR', 'MW', 'MV', 'ML', 'MH', 'FM', 'NA', 'NR', 'NE', 'PW', 'PG', 'PR', 'WS', 'SM', 'ST', 'SN', 'SC', 'SL', 'SB', 'KN', 'LC', 'VC', 'SR', 'TL', 'TO', 'TT', 'TV', 'VU', 'AZ', 'BN', 'BI', 'KH', 'CM', 'TD', 'KM', 'GQ', 'SZ', 'GA', 'GN', 'KG', 'LA', 'MO', 'MR', 'MN', 'NP', 'RW', 'TG', 'UZ', 'ZW', 'BJ', 'MG', 'MU', 'MZ', 'AO', 'CI', 'DJ', 'ZM', 'CD', 'CG', 'IQ', 'LY', 'TJ', 'VE', 'ET', 'XK'], 'external_urls': {'spotify': 'https://open.spotify.com/album/0coVTwj8xht3SmyIjkdkkx'}, 'href': 'https://api.spotify.com/v1/albums/0coVTwj8xht3SmyIjkdkkx', 'id': '0coVTwj8xht3SmyIjkdkkx', 'images': [{'height': 640, 'url': 'https://i.scdn.co/image/ab67616d0000b2730bae9455b021575abfa49831', 'width': 640}, {'height': 300, 'url': 'https://i.scdn.co/image/ab67616d00001e020bae9455b021575abfa49831', 'width': 300}, {'height': 64, 'url': 'https://i.scdn.co/image/ab67616d000048510bae9455b021575abfa49831', 'width': 64}], 'name': 'Roblox 3008, Vol. 1 (Original Soundtrack)', 'release_date': '2020-09-03', 'release_date_precision': 'day', 'total_tracks': 11, 'type': 'album', 'uri': 'spotify:album:0coVTwj8xht3SmyIjkdkkx'}, 'artists': [{'external_urls': {'spotify': 'https://open.spotify.com/artist/64JnTLWu6BRluLTlgge3FB'}, 'href': 'https://api.spotify.com/v1/artists/64JnTLWu6BRluLTlgge3FB', 'id': '64JnTLWu6BRluLTlgge3FB', 'name': 'Uglyburger0', 'type': 'artist', 'uri': 'spotify:artist:64JnTLWu6BRluLTlgge3FB'}], 'available_markets': ['AR', 'AU', 'AT', 'BE', 'BO', 'BR', 'BG', 'CA', 'CL', 'CO', 'CR', 'CY', 'CZ', 'DK', 'DO', 'DE', 'EC', 'EE', 'SV', 'FI', 'FR', 'GR', 'GT', 'HN', 'HK', 'HU', 'IS', 'IE', 'IT', 'LV', 'LT', 'LU', 'MY', 'MT', 'MX', 'NL', 'NZ', 'NI', 'NO', 'PA', 'PY', 'PE', 'PH', 'PL', 'PT', 'SG', 'SK', 'ES', 'SE', 'CH', 'TW', 'TR', 'UY', 'US', 'GB', 'AD', 'LI', 'MC', 'ID', 'JP', 'TH', 'VN', 'RO', 'IL', 'ZA', 'SA', 'AE', 'BH', 'QA', 'OM', 'KW', 'EG', 'MA', 'DZ', 'TN', 'LB', 'JO', 'PS', 'IN', 'BY', 'KZ', 'MD', 'UA', 'AL', 'BA', 'HR', 'ME', 'MK', 'RS', 'SI', 'KR', 'BD', 'PK', 'LK', 'GH', 'KE', 'NG', 'TZ', 'UG', 'AG', 'AM', 'BS', 'BB', 'BZ', 'BT', 'BW', 'BF', 'CV', 'CW', 'DM', 'FJ', 'GM', 'GE', 'GD', 'GW', 'GY', 'HT', 'JM', 'KI', 'LS', 'LR', 'MW', 'MV', 'ML', 'MH', 'FM', 'NA', 'NR', 'NE', 'PW', 'PG', 'PR', 'WS', 'SM', 'ST', 'SN', 'SC', 'SL', 'SB', 'KN', 'LC', 'VC', 'SR', 'TL', 'TO', 'TT', 'TV', 'VU', 'AZ', 'BN', 'BI', 'KH', 'CM', 'TD', 'KM', 'GQ', 'SZ', 'GA', 'GN', 'KG', 'LA', 'MO', 'MR', 'MN', 'NP', 'RW', 'TG', 'UZ', 'ZW', 'BJ', 'MG', 'MU', 'MZ', 'AO', 'CI', 'DJ', 'ZM', 'CD', 'CG', 'IQ', 'LY', 'TJ', 'VE', 'ET', 'XK'], 'disc_number': 1, 'duration_ms': 88293, 'explicit': False, 'external_ids': {'isrc': 'QZK6K2056440'}, 'external_urls': {'spotify': 'https://open.spotify.com/track/0vIAFXX4nUfYByvpjsKTaM'}, 'href': 'https://api.spotify.com/v1/tracks/0vIAFXX4nUfYByvpjsKTaM', 'id': '0vIAFXX4nUfYByvpjsKTaM', 'is_local': False, 'name': 'Sunday Theme', 'popularity': 46, 'preview_url': 'https://p.scdn.co/mp3-preview/597715457169a3d7599f40256c5ee66090590524?cid=732aa669f4d64d7dbfe9a61a281ab23f', 'track_number': 7, 'type': 'track', 'uri': 'spotify:track:0vIAFXX4nUfYByvpjsKTaM'}, {'album': {'album_type': 'album', 'artists': [{'external_urls': {'spotify': 'https://open.spotify.com/artist/64JnTLWu6BRluLTlgge3FB'}, 'href': 'https://api.spotify.com/v1/artists/64JnTLWu6BRluLTlgge3FB', 'id': '64JnTLWu6BRluLTlgge3FB', 'name': 'Uglyburger0', 'type': 'artist', 'uri': 'spotify:artist:64JnTLWu6BRluLTlgge3FB'}], 'available_markets': ['AR', 'AU', 'AT', 'BE', 'BO', 'BR', 'BG', 'CA', 'CL', 'CO', 'CR', 'CY', 'CZ', 'DK', 'DO', 'DE', 'EC', 'EE', 'SV', 'FI', 'FR', 'GR', 'GT', 'HN', 'HK', 'HU', 'IS', 'IE', 'IT', 'LV', 'LT', 'LU', 'MY', 'MT', 'MX', 'NL', 'NZ', 'NI', 'NO', 'PA', 'PY', 'PE', 'PH', 'PL', 'PT', 'SG', 'SK', 'ES', 'SE', 'CH', 'TW', 'TR', 'UY', 'US', 'GB', 'AD', 'LI', 'MC', 'ID', 'JP', 'TH', 'VN', 'RO', 'IL', 'ZA', 'SA', 'AE', 'BH', 'QA', 'OM', 'KW', 'EG', 'MA', 'DZ', 'TN', 'LB', 'JO', 'PS', 'IN', 'BY', 'KZ', 'MD', 'UA', 'AL', 'BA', 'HR', 'ME', 'MK', 'RS', 'SI', 'KR', 'BD', 'PK', 'LK', 'GH', 'KE', 'NG', 'TZ', 'UG', 'AG', 'AM', 'BS', 'BB', 'BZ', 'BT', 'BW', 'BF', 'CV', 'CW', 'DM', 'FJ', 'GM', 'GE', 'GD', 'GW', 'GY', 'HT', 'JM', 'KI', 'LS', 'LR', 'MW', 'MV', 'ML', 'MH', 'FM', 'NA', 'NR', 'NE', 'PW', 'PG', 'PR', 'WS', 'SM', 'ST', 'SN', 'SC', 'SL', 'SB', 'KN', 'LC', 'VC', 'SR', 'TL', 'TO', 'TT', 'TV', 'VU', 'AZ', 'BN', 'BI', 'KH', 'CM', 'TD', 'KM', 'GQ', 'SZ', 'GA', 'GN', 'KG', 'LA', 'MO', 'MR', 'MN', 'NP', 'RW', 'TG', 'UZ', 'ZW', 'BJ', 'MG', 'MU', 'MZ', 'AO', 'CI', 'DJ', 'ZM', 'CD', 'CG', 'IQ', 'LY', 'TJ', 'VE', 'ET', 'XK'], 'external_urls': {'spotify': 'https://open.spotify.com/album/0coVTwj8xht3SmyIjkdkkx'}, 'href': 'https://api.spotify.com/v1/albums/0coVTwj8xht3SmyIjkdkkx', 'id': '0coVTwj8xht3SmyIjkdkkx', 'images': [{'height': 640, 'url': 'https://i.scdn.co/image/ab67616d0000b2730bae9455b021575abfa49831', 'width': 640}, {'height': 300, 'url': 'https://i.scdn.co/image/ab67616d00001e020bae9455b021575abfa49831', 'width': 300}, {'height': 64, 'url': 'https://i.scdn.co/image/ab67616d000048510bae9455b021575abfa49831', 'width': 64}], 'name': 'Roblox 3008, Vol. 1 (Original Soundtrack)', 'release_date': '2020-09-03', 'release_date_precision': 'day', 'total_tracks': 11, 'type': 'album', 'uri': 'spotify:album:0coVTwj8xht3SmyIjkdkkx'}, 'artists': [{'external_urls': {'spotify': 'https://open.spotify.com/artist/64JnTLWu6BRluLTlgge3FB'}, 'href': 'https://api.spotify.com/v1/artists/64JnTLWu6BRluLTlgge3FB', 'id': '64JnTLWu6BRluLTlgge3FB', 'name': 'Uglyburger0', 'type': 'artist', 'uri': 'spotify:artist:64JnTLWu6BRluLTlgge3FB'}], 'available_markets': ['AR', 'AU', 'AT', 'BE', 'BO', 'BR', 'BG', 'CA', 'CL', 'CO', 'CR', 'CY', 'CZ', 'DK', 'DO', 'DE', 'EC', 'EE', 'SV', 'FI', 'FR', 'GR', 'GT', 'HN', 'HK', 'HU', 'IS', 'IE', 'IT', 'LV', 'LT', 'LU', 'MY', 'MT', 'MX', 'NL', 'NZ', 'NI', 'NO', 'PA', 'PY', 'PE', 'PH', 'PL', 'PT', 'SG', 'SK', 'ES', 'SE', 'CH', 'TW', 'TR', 'UY', 'US', 'GB', 'AD', 'LI', 'MC', 'ID', 'JP', 'TH', 'VN', 'RO', 'IL', 'ZA', 'SA', 'AE', 'BH', 'QA', 'OM', 'KW', 'EG', 'MA', 'DZ', 'TN', 'LB', 'JO', 'PS', 'IN', 'BY', 'KZ', 'MD', 'UA', 'AL', 'BA', 'HR', 'ME', 'MK', 'RS', 'SI', 'KR', 'BD', 'PK', 'LK', 'GH', 'KE', 'NG', 'TZ', 'UG', 'AG', 'AM', 'BS', 'BB', 'BZ', 'BT', 'BW', 'BF', 'CV', 'CW', 'DM', 'FJ', 'GM', 'GE', 'GD', 'GW', 'GY', 'HT', 'JM', 'KI', 'LS', 'LR', 'MW', 'MV', 'ML', 'MH', 'FM', 'NA', 'NR', 'NE', 'PW', 'PG', 'PR', 'WS', 'SM', 'ST', 'SN', 'SC', 'SL', 'SB', 'KN', 'LC', 'VC', 'SR', 'TL', 'TO', 'TT', 'TV', 'VU', 'AZ', 'BN', 'BI', 'KH', 'CM', 'TD', 'KM', 'GQ', 'SZ', 'GA', 'GN', 'KG', 'LA', 'MO', 'MR', 'MN', 'NP', 'RW', 'TG', 'UZ', 'ZW', 'BJ', 'MG', 'MU', 'MZ', 'AO', 'CI', 'DJ', 'ZM', 'CD', 'CG', 'IQ', 'LY', 'TJ', 'VE', 'ET', 'XK'], 'disc_number': 1, 'duration_ms': 81711, 'explicit': False, 'external_ids': {'isrc': 'QZK6K2056435'}, 'external_urls': {'spotify': 'https://open.spotify.com/track/3GiHJNzRpMqtEzQnUe1aEH'}, 'href': 'https://api.spotify.com/v1/tracks/3GiHJNzRpMqtEzQnUe1aEH', 'id': '3GiHJNzRpMqtEzQnUe1aEH', 'is_local': False, 'name': 'Tuesday Theme', 'popularity': 44, 'preview_url': 'https://p.scdn.co/mp3-preview/609fad1d455b75f3542c4b607dd383f0dc5f8df4?cid=732aa669f4d64d7dbfe9a61a281ab23f', 'track_number': 2, 'type': 'track', 'uri': 'spotify:track:3GiHJNzRpMqtEzQnUe1aEH'}], 'limit': 10, 'next': 'https://api.spotify.com/v1/search?query=Robloxer10_8&type=track&offset=10&limit=10', 'offset': 0, 'previous': None, 'total': 800}}\n"
     ]
    }
   ],
   "source": [
    "print(formatted_names[0][\"name\"])\n",
    "\n",
    "# Search Spotify based on the Robloxians Username\n",
    "track_results = sp.search(q=desired_user[\"name\"], type=\"track\", limit = 10)\n",
    "print(track_results)"
   ]
  },
  {
   "cell_type": "code",
   "execution_count": 63,
   "id": "3474ded5-2f95-4eb4-ae8a-f22b43e195cb",
   "metadata": {},
   "outputs": [
    {
     "name": "stdout",
     "output_type": "stream",
     "text": [
      "['spotify:track:1Jtmf1gPFCGxCQ3ECacxBM', 'spotify:track:3bOfPDEW0gJnwNBiEOWAMz', 'spotify:track:2CZQ1guWGFtAXrbDP6eZzj', 'spotify:track:3UDis2q4ANjASW2O3M9Gok', 'spotify:track:6ZPcH0qapLpoVaiV3qgsmv', 'spotify:track:0b3F6hAcrjp4q8BFeYXDsh', 'spotify:track:7KUF5yFG4or0btjNbhQnwd', 'spotify:track:3O1GWQ4fbPHR3J7m1vIrYC', 'spotify:track:0vIAFXX4nUfYByvpjsKTaM', 'spotify:track:3GiHJNzRpMqtEzQnUe1aEH']\n"
     ]
    }
   ],
   "source": [
    "song_data = track_results[\"tracks\"][\"items\"]\n",
    "\n",
    "# Get song URIs into a list\n",
    "song_uris = []\n",
    "for song in song_data:\n",
    "    song_uris.append(song[\"uri\"])\n",
    "print(song_uris)"
   ]
  },
  {
   "cell_type": "code",
   "execution_count": 64,
   "id": "8ef0ebb4-664a-4cb9-8d31-863e4dac8a12",
   "metadata": {},
   "outputs": [
    {
     "name": "stdout",
     "output_type": "stream",
     "text": [
      "{'snapshot_id': 'AAAAAhUApubeio+X+P2mfDrDd+stYvQO'}\n"
     ]
    },
    {
     "data": {
      "text/plain": [
       "True"
      ]
     },
     "execution_count": 64,
     "metadata": {},
     "output_type": "execute_result"
    }
   ],
   "source": [
    "# Create a playlist based on Roblox name and set to public\n",
    "my_playlist = sp.user_playlist_create(user=username, name=desired_user[\"name\"], public=True,\n",
    "                                      description=f\"Playlist for the Robloxian {desired_user[\"name\"]}!\")\n",
    "# Add the songs\n",
    "results = sp.user_playlist_add_tracks(username, my_playlist['id'], song_uris)\n",
    "print(results)\n",
    "\n",
    "# Convert the user thumbnail through base64 enconde\n",
    "def get_as_base64(url):\n",
    "    response = requests.get(url)\n",
    "    return base64.b64encode(response.content).decode('utf-8')\n",
    "\n",
    "get_as_base64(user_image)\n",
    "\n",
    "# Get image and upload the image as playlist cover\n",
    "user_image_base64 = get_as_base64(user_image)\n",
    "sp.playlist_upload_cover_image(my_playlist['id'], user_image_base64)\n",
    "\n",
    "# Open Spotify\n",
    "webbrowser.open(my_playlist['external_urls']['spotify'])"
   ]
  }
 ],
 "metadata": {
  "kernelspec": {
   "display_name": "Python 3 (ipykernel)",
   "language": "python",
   "name": "python3"
  },
  "language_info": {
   "codemirror_mode": {
    "name": "ipython",
    "version": 3
   },
   "file_extension": ".py",
   "mimetype": "text/x-python",
   "name": "python",
   "nbconvert_exporter": "python",
   "pygments_lexer": "ipython3",
   "version": "3.12.7"
  }
 },
 "nbformat": 4,
 "nbformat_minor": 5
}
