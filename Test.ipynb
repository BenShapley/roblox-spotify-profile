{
 "cells": [
  {
   "cell_type": "code",
   "execution_count": 1,
   "id": "b50c1636-3419-469a-b355-8f55ea00ddac",
   "metadata": {},
   "outputs": [],
   "source": [
    "import robloxpy\n",
    "import requests\n",
    "import webbrowser\n",
    "import spotipy\n",
    "import spotipy.util as util\n",
    "import json\n",
    "import base64"
   ]
  },
  {
   "cell_type": "code",
   "execution_count": 2,
   "id": "d61961c6-22c5-49a9-a562-25d331cd3f33",
   "metadata": {},
   "outputs": [
    {
     "data": {
      "text/plain": [
       "'Cookie Set'"
      ]
     },
     "execution_count": 2,
     "metadata": {},
     "output_type": "execute_result"
    }
   ],
   "source": [
    "with open(\"keys/roblox_cookie.txt\", \"r\") as roblox_file:\n",
    "    roblox_key = roblox_file.read()\n",
    "\n",
    "cookie = roblox_key\n",
    "    \n",
    "robloxpy.User.Internal.SetCookie(cookie)"
   ]
  },
  {
   "cell_type": "code",
   "execution_count": 3,
   "id": "1ffd6c29-50d5-4b8c-894a-8e538db6b259",
   "metadata": {},
   "outputs": [
    {
     "name": "stdout",
     "output_type": "stream",
     "text": [
      "200\n"
     ]
    }
   ],
   "source": [
    "cookie = roblox_key\n",
    "requestSession = requests.Session()\n",
    "\n",
    "# Setting the RBLX Security to my cookie\n",
    "requestSession.cookies[\".ROBLOSECURITY\"] = cookie\n",
    "\n",
    "# Request session set up for internal commands\n",
    "response = requestSession.get('https://www.roblox.com/home')\n",
    "print(response.status_code)"
   ]
  },
  {
   "cell_type": "code",
   "execution_count": 4,
   "id": "90bd23c3-43f8-41ad-85eb-a86a449b68bb",
   "metadata": {},
   "outputs": [
    {
     "data": {
      "text/plain": [
       "[{'placeId': 6516141723,\n",
       "  'name': '🎃 DOORS 👁️',\n",
       "  'description': \"A horror game involving doors.\\n\\n🎃 TRICK OR TREAT (PURPLE ELEVATORS): Find Candy in rooms. Eat Candy to fill up the Candy Basket, but watch out: Candy has random effects, being either a trick or a treat!... or a little bit of both.\\n🎃 THE HAUNT: We've added new UGC and decorated the lobby for a great background when you Capture yourself for the costume contest!\\n\\nWe recommend entering without a guide; use each death as a lesson.\\n⚠️ Loud sounds, flashing lights ahead!\\n🎧 📷 Headphones & max graphics recommended\\n\\n❤️ Join the LSPLASH group for a free Revive!\\n⭐ Buy (and wear) our UGC for some Knobs and a Revive!\\n\\n🎵 Music is non-copyright, on Spotify 'LSPLASH'\\n🛠️ Many things are subject to change, and some things may break.\\n\\nCredits in-game!\",\n",
       "  'sourceName': '🎃 DOORS 👁️',\n",
       "  'sourceDescription': \"A horror game involving doors.\\n\\n🎃 TRICK OR TREAT (PURPLE ELEVATORS): Find Candy in rooms. Eat Candy to fill up the Candy Basket, but watch out: Candy has random effects, being either a trick or a treat!... or a little bit of both.\\n🎃 THE HAUNT: We've added new UGC and decorated the lobby for a great background when you Capture yourself for the costume contest!\\n\\nWe recommend entering without a guide; use each death as a lesson.\\n⚠️ Loud sounds, flashing lights ahead!\\n🎧 📷 Headphones & max graphics recommended\\n\\n❤️ Join the LSPLASH group for a free Revive!\\n⭐ Buy (and wear) our UGC for some Knobs and a Revive!\\n\\n🎵 Music is non-copyright, on Spotify 'LSPLASH'\\n🛠️ Many things are subject to change, and some things may break.\\n\\nCredits in-game!\",\n",
       "  'url': 'https://www.roblox.com/games/6516141723/DOORS',\n",
       "  'builder': 'LSPLASH',\n",
       "  'builderId': 3049798,\n",
       "  'hasVerifiedBadge': True,\n",
       "  'isPlayable': True,\n",
       "  'reasonProhibited': 'None',\n",
       "  'universeId': 2440500124,\n",
       "  'universeRootPlaceId': 6516141723,\n",
       "  'price': 0,\n",
       "  'imageToken': 'T_6516141723_7e63'}]"
      ]
     },
     "execution_count": 4,
     "metadata": {},
     "output_type": "execute_result"
    }
   ],
   "source": [
    "response = requestSession.get(f\"https://games.roblox.com/v1/games/multiget-place-details?placeIds={6516141723}\")\n",
    "response.json()"
   ]
  },
  {
   "cell_type": "code",
   "execution_count": 5,
   "id": "26613fe9-d3a0-493d-a639-70c518068f84",
   "metadata": {},
   "outputs": [
    {
     "name": "stdout",
     "output_type": "stream",
     "text": [
      "[{'placeId': 6516141723, 'name': '🎃 DOORS 👁️', 'description': \"A horror game involving doors.\\n\\n🎃 TRICK OR TREAT (PURPLE ELEVATORS): Find Candy in rooms. Eat Candy to fill up the Candy Basket, but watch out: Candy has random effects, being either a trick or a treat!... or a little bit of both.\\n🎃 THE HAUNT: We've added new UGC and decorated the lobby for a great background when you Capture yourself for the costume contest!\\n\\nWe recommend entering without a guide; use each death as a lesson.\\n⚠️ Loud sounds, flashing lights ahead!\\n🎧 📷 Headphones & max graphics recommended\\n\\n❤️ Join the LSPLASH group for a free Revive!\\n⭐ Buy (and wear) our UGC for some Knobs and a Revive!\\n\\n🎵 Music is non-copyright, on Spotify 'LSPLASH'\\n🛠️ Many things are subject to change, and some things may break.\\n\\nCredits in-game!\", 'sourceName': '🎃 DOORS 👁️', 'sourceDescription': \"A horror game involving doors.\\n\\n🎃 TRICK OR TREAT (PURPLE ELEVATORS): Find Candy in rooms. Eat Candy to fill up the Candy Basket, but watch out: Candy has random effects, being either a trick or a treat!... or a little bit of both.\\n🎃 THE HAUNT: We've added new UGC and decorated the lobby for a great background when you Capture yourself for the costume contest!\\n\\nWe recommend entering without a guide; use each death as a lesson.\\n⚠️ Loud sounds, flashing lights ahead!\\n🎧 📷 Headphones & max graphics recommended\\n\\n❤️ Join the LSPLASH group for a free Revive!\\n⭐ Buy (and wear) our UGC for some Knobs and a Revive!\\n\\n🎵 Music is non-copyright, on Spotify 'LSPLASH'\\n🛠️ Many things are subject to change, and some things may break.\\n\\nCredits in-game!\", 'url': 'https://www.roblox.com/games/6516141723/DOORS', 'builder': 'LSPLASH', 'builderId': 3049798, 'hasVerifiedBadge': True, 'isPlayable': True, 'reasonProhibited': 'None', 'universeId': 2440500124, 'universeRootPlaceId': 6516141723, 'price': 0, 'imageToken': 'T_6516141723_7e63'}]\n"
     ]
    }
   ],
   "source": [
    "# This is an example of inputting a game ID and then outputting all of the information about that game\n",
    "# you can do this directly in Robloxpy too if you want (see documentation)\n",
    "def get_universe_data(game_id):\n",
    "    response = requestSession.get(f\"https://games.roblox.com/v1/games/multiget-place-details?placeIds={game_id}\")\n",
    "    return response.json()\n",
    "\n",
    "# This is one method to retrieve Universe ID\n",
    "universe_data = get_universe_data(6516141723)\n",
    "print(universe_data)"
   ]
  },
  {
   "cell_type": "code",
   "execution_count": 6,
   "id": "69f852b2-1cee-49a5-a136-323ab694223d",
   "metadata": {},
   "outputs": [],
   "source": [
    "universe_id = universe_data[0][\"universeId\"]"
   ]
  },
  {
   "cell_type": "code",
   "execution_count": 7,
   "id": "2bf847a0-a421-4240-969d-76121ac5c0db",
   "metadata": {},
   "outputs": [
    {
     "name": "stdout",
     "output_type": "stream",
     "text": [
      "{'id': 2440500124, 'rootPlaceId': 6516141723, 'name': '🎃 DOORS 👁️', 'description': \"A horror game involving doors.\\n\\n🎃 TRICK OR TREAT (PURPLE ELEVATORS): Find Candy in rooms. Eat Candy to fill up the Candy Basket, but watch out: Candy has random effects, being either a trick or a treat!... or a little bit of both.\\n🎃 THE HAUNT: We've added new UGC and decorated the lobby for a great background when you Capture yourself for the costume contest!\\n\\nWe recommend entering without a guide; use each death as a lesson.\\n⚠️ Loud sounds, flashing lights ahead!\\n🎧 📷 Headphones & max graphics recommended\\n\\n❤️ Join the LSPLASH group for a free Revive!\\n⭐ Buy (and wear) our UGC for some Knobs and a Revive!\\n\\n🎵 Music is non-copyright, on Spotify 'LSPLASH'\\n🛠️ Many things are subject to change, and some things may break.\\n\\nCredits in-game!\", 'sourceName': '🎃 DOORS 👁️', 'sourceDescription': \"A horror game involving doors.\\n\\n🎃 TRICK OR TREAT (PURPLE ELEVATORS): Find Candy in rooms. Eat Candy to fill up the Candy Basket, but watch out: Candy has random effects, being either a trick or a treat!... or a little bit of both.\\n🎃 THE HAUNT: We've added new UGC and decorated the lobby for a great background when you Capture yourself for the costume contest!\\n\\nWe recommend entering without a guide; use each death as a lesson.\\n⚠️ Loud sounds, flashing lights ahead!\\n🎧 📷 Headphones & max graphics recommended\\n\\n❤️ Join the LSPLASH group for a free Revive!\\n⭐ Buy (and wear) our UGC for some Knobs and a Revive!\\n\\n🎵 Music is non-copyright, on Spotify 'LSPLASH'\\n🛠️ Many things are subject to change, and some things may break.\\n\\nCredits in-game!\", 'creator': {'id': 3049798, 'name': 'LSPLASH', 'type': 'Group', 'isRNVAccount': False, 'hasVerifiedBadge': True}, 'price': None, 'allowedGearGenres': ['Adventure'], 'allowedGearCategories': [], 'isGenreEnforced': True, 'copyingAllowed': False, 'playing': 47755, 'visits': 5764850808, 'maxPlayers': 40, 'created': '2021-03-14T02:20:27.43Z', 'updated': '2024-10-25T17:55:48.31Z', 'studioAccessToApisAllowed': False, 'createVipServersAllowed': False, 'universeAvatarType': 'MorphToR15', 'genre': 'Adventure', 'genre_l1': 'Survival', 'genre_l2': 'Escape', 'isAllGenre': False, 'isFavoritedByUser': False, 'favoritedCount': 6711453}\n"
     ]
    }
   ],
   "source": [
    "# This is then externally getting game data through Robloxpy. Robloxpy has much more details such as live player counts & more\n",
    "my_roblox_game = robloxpy.Game.External.GetUniverseData(universe_id)\n",
    "print(my_roblox_game)"
   ]
  },
  {
   "cell_type": "code",
   "execution_count": 8,
   "id": "d1f0e8a5-a806-4782-8903-c0a31ab310e8",
   "metadata": {},
   "outputs": [
    {
     "data": {
      "text/plain": [
       "True"
      ]
     },
     "execution_count": 8,
     "metadata": {},
     "output_type": "execute_result"
    }
   ],
   "source": [
    "# Launch Testing\n",
    "webbrowser.open(f\"https://www.roblox.com/games/{16146832113}?gameid=1235\")\n",
    "webbrowser.open(f\"roblox://placeId={16146832113}\")"
   ]
  },
  {
   "cell_type": "code",
   "execution_count": 9,
   "id": "3d0c03e7-82ea-4f46-9f2f-c7f64a56ce97",
   "metadata": {},
   "outputs": [],
   "source": [
    "# parse config keys for roblox:\n",
    "\n",
    "import configparser\n",
    "\n",
    "# Initialize the config parser\n",
    "config = configparser.ConfigParser()\n",
    "\n",
    "# Read the config file\n",
    "config.read('keys/roblox_keys.ini')\n",
    "\n",
    "# Access the values\n",
    "api_key = config['RobloxAPI']['api_key']\n",
    "client_id = config['RobloxAPI']['client_id']\n",
    "client_secret = config['RobloxAPI']['client_secret']\n",
    "redirect_uri = config['RobloxAPI']['redirect_uri']"
   ]
  },
  {
   "cell_type": "code",
   "execution_count": 9,
   "id": "4e166a28-ef4c-486b-afd3-16c67f588f73",
   "metadata": {},
   "outputs": [
    {
     "name": "stdout",
     "output_type": "stream",
     "text": [
      "Direct the user to authorize: https://apis.roblox.com/oauth/authorize?response_type=code&client_id=2273396345470889788&redirect_uri=https://www.roblox.com/home&scope=read_datastore write_datastore manage_assets\n"
     ]
    }
   ],
   "source": [
    "scope = \"read_datastore write_datastore manage_assets\"\n",
    "authorization_url = (\n",
    "    f\"https://apis.roblox.com/oauth/authorize?response_type=code\"\n",
    "    f\"&client_id={client_id}&redirect_uri={redirect_uri}&scope={scope}\"\n",
    ")\n",
    "\n",
    "print(\"Direct the user to authorize:\", authorization_url)"
   ]
  },
  {
   "cell_type": "code",
   "execution_count": 30,
   "id": "30e059a8-ca84-40ff-9b60-906030143677",
   "metadata": {},
   "outputs": [
    {
     "ename": "NameError",
     "evalue": "name 'my_roblox_game' is not defined",
     "output_type": "error",
     "traceback": [
      "\u001b[1;31m---------------------------------------------------------------------------\u001b[0m",
      "\u001b[1;31mNameError\u001b[0m                                 Traceback (most recent call last)",
      "Cell \u001b[1;32mIn[30], line 1\u001b[0m\n\u001b[1;32m----> 1\u001b[0m track_results \u001b[38;5;241m=\u001b[39m sp\u001b[38;5;241m.\u001b[39msearch(q\u001b[38;5;241m=\u001b[39m\u001b[43mmy_roblox_game\u001b[49m[\u001b[38;5;124m\"\u001b[39m\u001b[38;5;124mname\u001b[39m\u001b[38;5;124m\"\u001b[39m], \u001b[38;5;28mtype\u001b[39m\u001b[38;5;241m=\u001b[39m\u001b[38;5;124m\"\u001b[39m\u001b[38;5;124malbum\u001b[39m\u001b[38;5;124m\"\u001b[39m, limit \u001b[38;5;241m=\u001b[39m \u001b[38;5;241m1\u001b[39m)\n\u001b[0;32m      2\u001b[0m \u001b[38;5;28mprint\u001b[39m(track_results)\n",
      "\u001b[1;31mNameError\u001b[0m: name 'my_roblox_game' is not defined"
     ]
    }
   ],
   "source": [
    "track_results = sp.search(q=my_roblox_game[\"name\"], type=\"album\", limit = 1)\n",
    "print(track_results)"
   ]
  },
  {
   "cell_type": "code",
   "execution_count": 10,
   "id": "e6c6d925-e744-46a6-8b3b-2ed69f196a91",
   "metadata": {},
   "outputs": [
    {
     "name": "stdout",
     "output_type": "stream",
     "text": [
      "ID: 7520736841\n"
     ]
    }
   ],
   "source": [
    "\n",
    "\n",
    "\n",
    "\n",
    "\n",
    "\n",
    "\n",
    "\n",
    "from roblox import Client\n",
    "import roblox.thumbnails as thumbnail\n",
    "import asyncio\n",
    "client = Client(cookie)\n",
    "\n",
    "async def main():\n",
    "    user = await client.get_authenticated_user()\n",
    "    print(\"ID:\", user.id)\n",
    "    \n",
    "await main()"
   ]
  },
  {
   "cell_type": "code",
   "execution_count": 12,
   "id": "8cf4a2e4-5bef-4652-bd16-c7a15024a125",
   "metadata": {},
   "outputs": [
    {
     "data": {
      "text/plain": [
       "[{'name': 'Veintore', 'id': 40567228}, {'name': 'Veintors', 'id': 3055219415}]"
      ]
     },
     "execution_count": 12,
     "metadata": {},
     "output_type": "execute_result"
    }
   ],
   "source": [
    "#users = client.user_search(\"Roblox\", max_items =10)\n",
    "\n",
    "desired_name = \"Veintore\"\n",
    "outputted_names = []\n",
    "\n",
    "async def main():\n",
    "    users = client.user_search(desired_name, max_items =10)\n",
    "    async for user in users:\n",
    "        #print(f\"{user.name}, ID: {user.id}\")\n",
    "        outputted_names.append(user.name)\n",
    "        outputted_names.append(user.id)\n",
    "await main()\n",
    "outputted_names\n",
    "\n",
    "##names_dict = {}\n",
    "\n",
    "#def Convert(lst):\n",
    "#    names_dict = {lst[i]: lst[i + 1] for i in range(0, len(lst), 2)}\n",
    "#    return names_dict\n",
    "\n",
    "#names_dict = Convert(outputted_names)\n",
    "\n",
    "formatted_names = []\n",
    "for i in range(0, len(outputted_names), 2):\n",
    "    formatted_names.append({'name': outputted_names[i], 'id': outputted_names[i + 1]})\n",
    "\n",
    "formatted_names"
   ]
  },
  {
   "cell_type": "code",
   "execution_count": 13,
   "id": "3d7bd360-1449-420e-8464-f0ea67011ae9",
   "metadata": {},
   "outputs": [
    {
     "name": "stdout",
     "output_type": "stream",
     "text": [
      "https://tr.rbxcdn.com/30DAY-Avatar-C42C91309A49ED79D27879B11A4D69FF-Png/420/420/Avatar/Png/noFilter\n"
     ]
    }
   ],
   "source": [
    "desired_user = formatted_names[0]\n",
    "user = await client.get_user(desired_user[\"id\"])\n",
    "user_thumbnails = await client.thumbnails.get_user_avatar_thumbnails(\n",
    "    users=[user],\n",
    "    type=thumbnail.AvatarThumbnailType.full_body,\n",
    "    size=(420, 420)\n",
    ")\n",
    "\n",
    "if len(user_thumbnails) > 0:\n",
    "    user_thumbnail = user_thumbnails[0]\n",
    "    user_image = user_thumbnail.image_url\n",
    "    print(user_image)"
   ]
  },
  {
   "cell_type": "code",
   "execution_count": 14,
   "id": "41baadbd-b15c-4c11-b86a-0e2c22eeeecd",
   "metadata": {},
   "outputs": [],
   "source": [
    "with open(\"keys/spotify_keys.json\", \"r\") as spotify_files:\n",
    "    # load reads a json string from a file\n",
    "    tokens = json.load(spotify_files)\n",
    "\n",
    "my_client_id = tokens[\"client_id\"]\n",
    "my_client_secret = tokens[\"client_secret\"]\n",
    "redirectURI = tokens[\"redirect\"]\n",
    "username = tokens[\"username\"]"
   ]
  },
  {
   "cell_type": "code",
   "execution_count": 15,
   "id": "0f22917e-d037-4c9f-913c-a20c002924b5",
   "metadata": {},
   "outputs": [],
   "source": [
    "scope = \"user-read-private user-read-playback-state user-modify-playback-state playlist-modify-public playlist-modify-private ugc-image-upload\"\n",
    "token = util.prompt_for_user_token(username, scope, client_id=my_client_id, client_secret=my_client_secret, redirect_uri=redirectURI)\n",
    "\n",
    "sp = spotipy.Spotify(auth=token)"
   ]
  },
  {
   "cell_type": "code",
   "execution_count": 16,
   "id": "7b3a866e-b816-4cfc-b99e-80c8859835d9",
   "metadata": {},
   "outputs": [
    {
     "name": "stdout",
     "output_type": "stream",
     "text": [
      "Veintore\n",
      "{'tracks': {'href': 'https://api.spotify.com/v1/search?query=Veintore&type=track&offset=0&limit=10', 'items': [{'album': {'album_type': 'single', 'artists': [{'external_urls': {'spotify': 'https://open.spotify.com/artist/061DeTQNd4aDwb6VqHq8O1'}, 'href': 'https://api.spotify.com/v1/artists/061DeTQNd4aDwb6VqHq8O1', 'id': '061DeTQNd4aDwb6VqHq8O1', 'name': 'M.E.R.L.O.T', 'type': 'artist', 'uri': 'spotify:artist:061DeTQNd4aDwb6VqHq8O1'}], 'available_markets': ['AR', 'AU', 'AT', 'BE', 'BO', 'BR', 'BG', 'CA', 'CL', 'CO', 'CR', 'CY', 'CZ', 'DK', 'DO', 'DE', 'EC', 'EE', 'SV', 'FI', 'FR', 'GR', 'GT', 'HN', 'HK', 'HU', 'IS', 'IE', 'IT', 'LV', 'LT', 'LU', 'MY', 'MT', 'MX', 'NL', 'NZ', 'NI', 'NO', 'PA', 'PY', 'PE', 'PH', 'PL', 'PT', 'SG', 'SK', 'ES', 'SE', 'CH', 'TW', 'TR', 'UY', 'US', 'GB', 'AD', 'LI', 'MC', 'ID', 'JP', 'TH', 'VN', 'RO', 'IL', 'ZA', 'SA', 'AE', 'BH', 'QA', 'OM', 'KW', 'EG', 'MA', 'DZ', 'TN', 'LB', 'JO', 'PS', 'IN', 'BY', 'KZ', 'MD', 'UA', 'AL', 'BA', 'HR', 'ME', 'MK', 'RS', 'SI', 'KR', 'BD', 'PK', 'LK', 'GH', 'KE', 'NG', 'TZ', 'UG', 'AG', 'AM', 'BS', 'BB', 'BZ', 'BT', 'BW', 'BF', 'CV', 'CW', 'DM', 'FJ', 'GM', 'GE', 'GD', 'GW', 'GY', 'HT', 'JM', 'KI', 'LS', 'LR', 'MW', 'MV', 'ML', 'MH', 'FM', 'NA', 'NR', 'NE', 'PW', 'PG', 'PR', 'WS', 'SM', 'ST', 'SN', 'SC', 'SL', 'SB', 'KN', 'LC', 'VC', 'SR', 'TL', 'TO', 'TT', 'TV', 'VU', 'AZ', 'BN', 'BI', 'KH', 'CM', 'TD', 'KM', 'GQ', 'SZ', 'GA', 'GN', 'KG', 'LA', 'MO', 'MR', 'MN', 'NP', 'RW', 'TG', 'UZ', 'ZW', 'BJ', 'MG', 'MU', 'MZ', 'AO', 'CI', 'DJ', 'ZM', 'CD', 'CG', 'IQ', 'LY', 'TJ', 'VE', 'ET', 'XK'], 'external_urls': {'spotify': 'https://open.spotify.com/album/5dC6HHlvpk6qds16TRLh7A'}, 'href': 'https://api.spotify.com/v1/albums/5dC6HHlvpk6qds16TRLh7A', 'id': '5dC6HHlvpk6qds16TRLh7A', 'images': [{'height': 640, 'url': 'https://i.scdn.co/image/ab67616d0000b273680bd81361c990160cdd5100', 'width': 640}, {'height': 300, 'url': 'https://i.scdn.co/image/ab67616d00001e02680bd81361c990160cdd5100', 'width': 300}, {'height': 64, 'url': 'https://i.scdn.co/image/ab67616d00004851680bd81361c990160cdd5100', 'width': 64}], 'name': 'Ventitre', 'release_date': '2019-10-23', 'release_date_precision': 'day', 'total_tracks': 1, 'type': 'album', 'uri': 'spotify:album:5dC6HHlvpk6qds16TRLh7A'}, 'artists': [{'external_urls': {'spotify': 'https://open.spotify.com/artist/061DeTQNd4aDwb6VqHq8O1'}, 'href': 'https://api.spotify.com/v1/artists/061DeTQNd4aDwb6VqHq8O1', 'id': '061DeTQNd4aDwb6VqHq8O1', 'name': 'M.E.R.L.O.T', 'type': 'artist', 'uri': 'spotify:artist:061DeTQNd4aDwb6VqHq8O1'}], 'available_markets': ['AR', 'AU', 'AT', 'BE', 'BO', 'BR', 'BG', 'CA', 'CL', 'CO', 'CR', 'CY', 'CZ', 'DK', 'DO', 'DE', 'EC', 'EE', 'SV', 'FI', 'FR', 'GR', 'GT', 'HN', 'HK', 'HU', 'IS', 'IE', 'IT', 'LV', 'LT', 'LU', 'MY', 'MT', 'MX', 'NL', 'NZ', 'NI', 'NO', 'PA', 'PY', 'PE', 'PH', 'PL', 'PT', 'SG', 'SK', 'ES', 'SE', 'CH', 'TW', 'TR', 'UY', 'US', 'GB', 'AD', 'LI', 'MC', 'ID', 'JP', 'TH', 'VN', 'RO', 'IL', 'ZA', 'SA', 'AE', 'BH', 'QA', 'OM', 'KW', 'EG', 'MA', 'DZ', 'TN', 'LB', 'JO', 'PS', 'IN', 'BY', 'KZ', 'MD', 'UA', 'AL', 'BA', 'HR', 'ME', 'MK', 'RS', 'SI', 'KR', 'BD', 'PK', 'LK', 'GH', 'KE', 'NG', 'TZ', 'UG', 'AG', 'AM', 'BS', 'BB', 'BZ', 'BT', 'BW', 'BF', 'CV', 'CW', 'DM', 'FJ', 'GM', 'GE', 'GD', 'GW', 'GY', 'HT', 'JM', 'KI', 'LS', 'LR', 'MW', 'MV', 'ML', 'MH', 'FM', 'NA', 'NR', 'NE', 'PW', 'PG', 'PR', 'WS', 'SM', 'ST', 'SN', 'SC', 'SL', 'SB', 'KN', 'LC', 'VC', 'SR', 'TL', 'TO', 'TT', 'TV', 'VU', 'AZ', 'BN', 'BI', 'KH', 'CM', 'TD', 'KM', 'GQ', 'SZ', 'GA', 'GN', 'KG', 'LA', 'MO', 'MR', 'MN', 'NP', 'RW', 'TG', 'UZ', 'ZW', 'BJ', 'MG', 'MU', 'MZ', 'AO', 'CI', 'DJ', 'ZM', 'CD', 'CG', 'IQ', 'LY', 'TJ', 'VE', 'ET', 'XK'], 'disc_number': 1, 'duration_ms': 141363, 'explicit': True, 'external_ids': {'isrc': 'QZGWW1975926'}, 'external_urls': {'spotify': 'https://open.spotify.com/track/6vEFy7TE2d538IFaPtJ9Rz'}, 'href': 'https://api.spotify.com/v1/tracks/6vEFy7TE2d538IFaPtJ9Rz', 'id': '6vEFy7TE2d538IFaPtJ9Rz', 'is_local': False, 'name': 'Ventitre', 'popularity': 36, 'preview_url': 'https://p.scdn.co/mp3-preview/12df198e5e2dcdec120aeaee3bdded095400ab97?cid=732aa669f4d64d7dbfe9a61a281ab23f', 'track_number': 1, 'type': 'track', 'uri': 'spotify:track:6vEFy7TE2d538IFaPtJ9Rz'}, {'album': {'album_type': 'single', 'artists': [{'external_urls': {'spotify': 'https://open.spotify.com/artist/1XgXOjJB4v81er1qLyW0Wq'}, 'href': 'https://api.spotify.com/v1/artists/1XgXOjJB4v81er1qLyW0Wq', 'id': '1XgXOjJB4v81er1qLyW0Wq', 'name': 'Tedi hjk', 'type': 'artist', 'uri': 'spotify:artist:1XgXOjJB4v81er1qLyW0Wq'}], 'available_markets': ['AR', 'AU', 'AT', 'BE', 'BO', 'BR', 'BG', 'CA', 'CL', 'CO', 'CR', 'CY', 'CZ', 'DK', 'DO', 'DE', 'EC', 'EE', 'SV', 'FI', 'FR', 'GR', 'GT', 'HN', 'HK', 'HU', 'IS', 'IE', 'IT', 'LV', 'LT', 'LU', 'MY', 'MT', 'MX', 'NL', 'NZ', 'NI', 'NO', 'PA', 'PY', 'PE', 'PH', 'PL', 'PT', 'SG', 'SK', 'ES', 'SE', 'CH', 'TW', 'TR', 'UY', 'US', 'GB', 'AD', 'LI', 'MC', 'ID', 'JP', 'TH', 'VN', 'RO', 'IL', 'ZA', 'SA', 'AE', 'BH', 'QA', 'OM', 'KW', 'EG', 'MA', 'DZ', 'TN', 'LB', 'JO', 'PS', 'IN', 'BY', 'KZ', 'MD', 'UA', 'AL', 'BA', 'HR', 'ME', 'MK', 'RS', 'SI', 'KR', 'BD', 'PK', 'LK', 'GH', 'KE', 'NG', 'TZ', 'UG', 'AG', 'AM', 'BS', 'BB', 'BZ', 'BT', 'BW', 'BF', 'CV', 'CW', 'DM', 'FJ', 'GM', 'GE', 'GD', 'GW', 'GY', 'HT', 'JM', 'KI', 'LS', 'LR', 'MW', 'MV', 'ML', 'MH', 'FM', 'NA', 'NR', 'NE', 'PW', 'PG', 'PR', 'WS', 'SM', 'ST', 'SN', 'SC', 'SL', 'SB', 'KN', 'LC', 'VC', 'SR', 'TL', 'TO', 'TT', 'TV', 'VU', 'AZ', 'BN', 'BI', 'KH', 'CM', 'TD', 'KM', 'GQ', 'SZ', 'GA', 'GN', 'KG', 'LA', 'MO', 'MR', 'MN', 'NP', 'RW', 'TG', 'UZ', 'ZW', 'BJ', 'MG', 'MU', 'MZ', 'AO', 'CI', 'DJ', 'ZM', 'CD', 'CG', 'IQ', 'LY', 'TJ', 'VE', 'ET', 'XK'], 'external_urls': {'spotify': 'https://open.spotify.com/album/35dXy0EGPlAyaz1NYdn6bR'}, 'href': 'https://api.spotify.com/v1/albums/35dXy0EGPlAyaz1NYdn6bR', 'id': '35dXy0EGPlAyaz1NYdn6bR', 'images': [{'height': 640, 'url': 'https://i.scdn.co/image/ab67616d0000b273cd83396f68d0619fb599c520', 'width': 640}, {'height': 300, 'url': 'https://i.scdn.co/image/ab67616d00001e02cd83396f68d0619fb599c520', 'width': 300}, {'height': 64, 'url': 'https://i.scdn.co/image/ab67616d00004851cd83396f68d0619fb599c520', 'width': 64}], 'name': 'Veinte', 'release_date': '2024-08-29', 'release_date_precision': 'day', 'total_tracks': 1, 'type': 'album', 'uri': 'spotify:album:35dXy0EGPlAyaz1NYdn6bR'}, 'artists': [{'external_urls': {'spotify': 'https://open.spotify.com/artist/1XgXOjJB4v81er1qLyW0Wq'}, 'href': 'https://api.spotify.com/v1/artists/1XgXOjJB4v81er1qLyW0Wq', 'id': '1XgXOjJB4v81er1qLyW0Wq', 'name': 'Tedi hjk', 'type': 'artist', 'uri': 'spotify:artist:1XgXOjJB4v81er1qLyW0Wq'}], 'available_markets': ['AR', 'AU', 'AT', 'BE', 'BO', 'BR', 'BG', 'CA', 'CL', 'CO', 'CR', 'CY', 'CZ', 'DK', 'DO', 'DE', 'EC', 'EE', 'SV', 'FI', 'FR', 'GR', 'GT', 'HN', 'HK', 'HU', 'IS', 'IE', 'IT', 'LV', 'LT', 'LU', 'MY', 'MT', 'MX', 'NL', 'NZ', 'NI', 'NO', 'PA', 'PY', 'PE', 'PH', 'PL', 'PT', 'SG', 'SK', 'ES', 'SE', 'CH', 'TW', 'TR', 'UY', 'US', 'GB', 'AD', 'LI', 'MC', 'ID', 'JP', 'TH', 'VN', 'RO', 'IL', 'ZA', 'SA', 'AE', 'BH', 'QA', 'OM', 'KW', 'EG', 'MA', 'DZ', 'TN', 'LB', 'JO', 'PS', 'IN', 'BY', 'KZ', 'MD', 'UA', 'AL', 'BA', 'HR', 'ME', 'MK', 'RS', 'SI', 'KR', 'BD', 'PK', 'LK', 'GH', 'KE', 'NG', 'TZ', 'UG', 'AG', 'AM', 'BS', 'BB', 'BZ', 'BT', 'BW', 'BF', 'CV', 'CW', 'DM', 'FJ', 'GM', 'GE', 'GD', 'GW', 'GY', 'HT', 'JM', 'KI', 'LS', 'LR', 'MW', 'MV', 'ML', 'MH', 'FM', 'NA', 'NR', 'NE', 'PW', 'PG', 'PR', 'WS', 'SM', 'ST', 'SN', 'SC', 'SL', 'SB', 'KN', 'LC', 'VC', 'SR', 'TL', 'TO', 'TT', 'TV', 'VU', 'AZ', 'BN', 'BI', 'KH', 'CM', 'TD', 'KM', 'GQ', 'SZ', 'GA', 'GN', 'KG', 'LA', 'MO', 'MR', 'MN', 'NP', 'RW', 'TG', 'UZ', 'ZW', 'BJ', 'MG', 'MU', 'MZ', 'AO', 'CI', 'DJ', 'ZM', 'CD', 'CG', 'IQ', 'LY', 'TJ', 'VE', 'ET', 'XK'], 'disc_number': 1, 'duration_ms': 207559, 'explicit': False, 'external_ids': {'isrc': 'SE5XG2438203'}, 'external_urls': {'spotify': 'https://open.spotify.com/track/2VgOo1Hp6175BA4VfgiUb5'}, 'href': 'https://api.spotify.com/v1/tracks/2VgOo1Hp6175BA4VfgiUb5', 'id': '2VgOo1Hp6175BA4VfgiUb5', 'is_local': False, 'name': 'Veinte', 'popularity': 20, 'preview_url': 'https://p.scdn.co/mp3-preview/b44c42d19778d5302badd2b97ab22933ed72930f?cid=732aa669f4d64d7dbfe9a61a281ab23f', 'track_number': 1, 'type': 'track', 'uri': 'spotify:track:2VgOo1Hp6175BA4VfgiUb5'}, {'album': {'album_type': 'single', 'artists': [{'external_urls': {'spotify': 'https://open.spotify.com/artist/16vMHVI9wpkobr36k4GNyT'}, 'href': 'https://api.spotify.com/v1/artists/16vMHVI9wpkobr36k4GNyT', 'id': '16vMHVI9wpkobr36k4GNyT', 'name': 'MatAre', 'type': 'artist', 'uri': 'spotify:artist:16vMHVI9wpkobr36k4GNyT'}], 'available_markets': ['AR', 'AU', 'AT', 'BE', 'BO', 'BR', 'BG', 'CA', 'CL', 'CO', 'CR', 'CY', 'CZ', 'DK', 'DO', 'DE', 'EC', 'EE', 'SV', 'FI', 'FR', 'GR', 'GT', 'HN', 'HK', 'HU', 'IS', 'IE', 'IT', 'LV', 'LT', 'LU', 'MY', 'MT', 'MX', 'NL', 'NZ', 'NI', 'NO', 'PA', 'PY', 'PE', 'PH', 'PL', 'PT', 'SG', 'SK', 'ES', 'SE', 'CH', 'TW', 'TR', 'UY', 'US', 'GB', 'AD', 'LI', 'MC', 'ID', 'JP', 'TH', 'VN', 'RO', 'IL', 'ZA', 'SA', 'AE', 'BH', 'QA', 'OM', 'KW', 'EG', 'MA', 'DZ', 'TN', 'LB', 'JO', 'PS', 'IN', 'BY', 'KZ', 'MD', 'UA', 'AL', 'BA', 'HR', 'ME', 'MK', 'RS', 'SI', 'KR', 'BD', 'PK', 'LK', 'GH', 'KE', 'NG', 'TZ', 'UG', 'AG', 'AM', 'BS', 'BB', 'BZ', 'BT', 'BW', 'BF', 'CV', 'CW', 'DM', 'FJ', 'GM', 'GE', 'GD', 'GW', 'GY', 'HT', 'JM', 'KI', 'LS', 'LR', 'MW', 'MV', 'ML', 'MH', 'FM', 'NA', 'NR', 'NE', 'PW', 'PG', 'PR', 'WS', 'SM', 'ST', 'SN', 'SC', 'SL', 'SB', 'KN', 'LC', 'VC', 'SR', 'TL', 'TO', 'TT', 'TV', 'VU', 'AZ', 'BN', 'BI', 'KH', 'CM', 'TD', 'KM', 'GQ', 'SZ', 'GA', 'GN', 'KG', 'LA', 'MO', 'MR', 'MN', 'NP', 'RW', 'TG', 'UZ', 'ZW', 'BJ', 'MG', 'MU', 'MZ', 'AO', 'CI', 'DJ', 'ZM', 'CD', 'CG', 'IQ', 'LY', 'TJ', 'VE', 'ET', 'XK'], 'external_urls': {'spotify': 'https://open.spotify.com/album/0b1TIOU6qe0XH3XjaQne7D'}, 'href': 'https://api.spotify.com/v1/albums/0b1TIOU6qe0XH3XjaQne7D', 'id': '0b1TIOU6qe0XH3XjaQne7D', 'images': [{'height': 640, 'url': 'https://i.scdn.co/image/ab67616d0000b27390e4b70ae1955de7d653c62b', 'width': 640}, {'height': 300, 'url': 'https://i.scdn.co/image/ab67616d00001e0290e4b70ae1955de7d653c62b', 'width': 300}, {'height': 64, 'url': 'https://i.scdn.co/image/ab67616d0000485190e4b70ae1955de7d653c62b', 'width': 64}], 'name': 'Veinte', 'release_date': '2023-07-27', 'release_date_precision': 'day', 'total_tracks': 1, 'type': 'album', 'uri': 'spotify:album:0b1TIOU6qe0XH3XjaQne7D'}, 'artists': [{'external_urls': {'spotify': 'https://open.spotify.com/artist/16vMHVI9wpkobr36k4GNyT'}, 'href': 'https://api.spotify.com/v1/artists/16vMHVI9wpkobr36k4GNyT', 'id': '16vMHVI9wpkobr36k4GNyT', 'name': 'MatAre', 'type': 'artist', 'uri': 'spotify:artist:16vMHVI9wpkobr36k4GNyT'}], 'available_markets': ['AR', 'AU', 'AT', 'BE', 'BO', 'BR', 'BG', 'CA', 'CL', 'CO', 'CR', 'CY', 'CZ', 'DK', 'DO', 'DE', 'EC', 'EE', 'SV', 'FI', 'FR', 'GR', 'GT', 'HN', 'HK', 'HU', 'IS', 'IE', 'IT', 'LV', 'LT', 'LU', 'MY', 'MT', 'MX', 'NL', 'NZ', 'NI', 'NO', 'PA', 'PY', 'PE', 'PH', 'PL', 'PT', 'SG', 'SK', 'ES', 'SE', 'CH', 'TW', 'TR', 'UY', 'US', 'GB', 'AD', 'LI', 'MC', 'ID', 'JP', 'TH', 'VN', 'RO', 'IL', 'ZA', 'SA', 'AE', 'BH', 'QA', 'OM', 'KW', 'EG', 'MA', 'DZ', 'TN', 'LB', 'JO', 'PS', 'IN', 'BY', 'KZ', 'MD', 'UA', 'AL', 'BA', 'HR', 'ME', 'MK', 'RS', 'SI', 'KR', 'BD', 'PK', 'LK', 'GH', 'KE', 'NG', 'TZ', 'UG', 'AG', 'AM', 'BS', 'BB', 'BZ', 'BT', 'BW', 'BF', 'CV', 'CW', 'DM', 'FJ', 'GM', 'GE', 'GD', 'GW', 'GY', 'HT', 'JM', 'KI', 'LS', 'LR', 'MW', 'MV', 'ML', 'MH', 'FM', 'NA', 'NR', 'NE', 'PW', 'PG', 'PR', 'WS', 'SM', 'ST', 'SN', 'SC', 'SL', 'SB', 'KN', 'LC', 'VC', 'SR', 'TL', 'TO', 'TT', 'TV', 'VU', 'AZ', 'BN', 'BI', 'KH', 'CM', 'TD', 'KM', 'GQ', 'SZ', 'GA', 'GN', 'KG', 'LA', 'MO', 'MR', 'MN', 'NP', 'RW', 'TG', 'UZ', 'ZW', 'BJ', 'MG', 'MU', 'MZ', 'AO', 'CI', 'DJ', 'ZM', 'CD', 'CG', 'IQ', 'LY', 'TJ', 'VE', 'ET', 'XK'], 'disc_number': 1, 'duration_ms': 212000, 'explicit': False, 'external_ids': {'isrc': 'QZTV32336916'}, 'external_urls': {'spotify': 'https://open.spotify.com/track/46YjY96lFePbZZYswXvXTw'}, 'href': 'https://api.spotify.com/v1/tracks/46YjY96lFePbZZYswXvXTw', 'id': '46YjY96lFePbZZYswXvXTw', 'is_local': False, 'name': 'Veinte', 'popularity': 11, 'preview_url': 'https://p.scdn.co/mp3-preview/a3a1c8d6064b75d7e4e783b2b3f4d4c61958f94b?cid=732aa669f4d64d7dbfe9a61a281ab23f', 'track_number': 1, 'type': 'track', 'uri': 'spotify:track:46YjY96lFePbZZYswXvXTw'}, {'album': {'album_type': 'single', 'artists': [{'external_urls': {'spotify': 'https://open.spotify.com/artist/5X32iso0Rayu4YRLnW3eOU'}, 'href': 'https://api.spotify.com/v1/artists/5X32iso0Rayu4YRLnW3eOU', 'id': '5X32iso0Rayu4YRLnW3eOU', 'name': 'Ventitre', 'type': 'artist', 'uri': 'spotify:artist:5X32iso0Rayu4YRLnW3eOU'}, {'external_urls': {'spotify': 'https://open.spotify.com/artist/3CGbwRPt5vbNIn9HsCtgZh'}, 'href': 'https://api.spotify.com/v1/artists/3CGbwRPt5vbNIn9HsCtgZh', 'id': '3CGbwRPt5vbNIn9HsCtgZh', 'name': '17WRLDRIOT', 'type': 'artist', 'uri': 'spotify:artist:3CGbwRPt5vbNIn9HsCtgZh'}], 'available_markets': ['AR', 'AU', 'AT', 'BE', 'BO', 'BR', 'BG', 'CA', 'CL', 'CO', 'CR', 'CY', 'CZ', 'DK', 'DO', 'DE', 'EC', 'EE', 'SV', 'FI', 'FR', 'GR', 'GT', 'HN', 'HK', 'HU', 'IS', 'IE', 'IT', 'LV', 'LT', 'LU', 'MY', 'MT', 'MX', 'NL', 'NZ', 'NI', 'NO', 'PA', 'PY', 'PE', 'PH', 'PL', 'PT', 'SG', 'SK', 'ES', 'SE', 'CH', 'TW', 'TR', 'UY', 'US', 'GB', 'AD', 'LI', 'MC', 'ID', 'JP', 'TH', 'VN', 'RO', 'IL', 'ZA', 'SA', 'AE', 'BH', 'QA', 'OM', 'KW', 'EG', 'MA', 'DZ', 'TN', 'LB', 'JO', 'PS', 'IN', 'BY', 'KZ', 'MD', 'UA', 'AL', 'BA', 'HR', 'ME', 'MK', 'RS', 'SI', 'KR', 'BD', 'PK', 'LK', 'GH', 'KE', 'NG', 'TZ', 'UG', 'AG', 'AM', 'BS', 'BB', 'BZ', 'BT', 'BW', 'BF', 'CV', 'CW', 'DM', 'FJ', 'GM', 'GE', 'GD', 'GW', 'GY', 'HT', 'JM', 'KI', 'LS', 'LR', 'MW', 'MV', 'ML', 'MH', 'FM', 'NA', 'NR', 'NE', 'PW', 'PG', 'PR', 'WS', 'SM', 'ST', 'SN', 'SC', 'SL', 'SB', 'KN', 'LC', 'VC', 'SR', 'TL', 'TO', 'TT', 'TV', 'VU', 'AZ', 'BN', 'BI', 'KH', 'CM', 'TD', 'KM', 'GQ', 'SZ', 'GA', 'GN', 'KG', 'LA', 'MO', 'MR', 'MN', 'NP', 'RW', 'TG', 'UZ', 'ZW', 'BJ', 'MG', 'MU', 'MZ', 'AO', 'CI', 'DJ', 'ZM', 'CD', 'CG', 'IQ', 'LY', 'TJ', 'VE', 'ET', 'XK'], 'external_urls': {'spotify': 'https://open.spotify.com/album/7sGkMEQTRrMuApDXMFqdqg'}, 'href': 'https://api.spotify.com/v1/albums/7sGkMEQTRrMuApDXMFqdqg', 'id': '7sGkMEQTRrMuApDXMFqdqg', 'images': [{'height': 640, 'url': 'https://i.scdn.co/image/ab67616d0000b27310b9f4181dfbb2db59d42146', 'width': 640}, {'height': 300, 'url': 'https://i.scdn.co/image/ab67616d00001e0210b9f4181dfbb2db59d42146', 'width': 300}, {'height': 64, 'url': 'https://i.scdn.co/image/ab67616d0000485110b9f4181dfbb2db59d42146', 'width': 64}], 'name': 'Storie scritte', 'release_date': '2024-09-25', 'release_date_precision': 'day', 'total_tracks': 1, 'type': 'album', 'uri': 'spotify:album:7sGkMEQTRrMuApDXMFqdqg'}, 'artists': [{'external_urls': {'spotify': 'https://open.spotify.com/artist/5X32iso0Rayu4YRLnW3eOU'}, 'href': 'https://api.spotify.com/v1/artists/5X32iso0Rayu4YRLnW3eOU', 'id': '5X32iso0Rayu4YRLnW3eOU', 'name': 'Ventitre', 'type': 'artist', 'uri': 'spotify:artist:5X32iso0Rayu4YRLnW3eOU'}, {'external_urls': {'spotify': 'https://open.spotify.com/artist/3CGbwRPt5vbNIn9HsCtgZh'}, 'href': 'https://api.spotify.com/v1/artists/3CGbwRPt5vbNIn9HsCtgZh', 'id': '3CGbwRPt5vbNIn9HsCtgZh', 'name': '17WRLDRIOT', 'type': 'artist', 'uri': 'spotify:artist:3CGbwRPt5vbNIn9HsCtgZh'}], 'available_markets': ['AR', 'AU', 'AT', 'BE', 'BO', 'BR', 'BG', 'CA', 'CL', 'CO', 'CR', 'CY', 'CZ', 'DK', 'DO', 'DE', 'EC', 'EE', 'SV', 'FI', 'FR', 'GR', 'GT', 'HN', 'HK', 'HU', 'IS', 'IE', 'IT', 'LV', 'LT', 'LU', 'MY', 'MT', 'MX', 'NL', 'NZ', 'NI', 'NO', 'PA', 'PY', 'PE', 'PH', 'PL', 'PT', 'SG', 'SK', 'ES', 'SE', 'CH', 'TW', 'TR', 'UY', 'US', 'GB', 'AD', 'LI', 'MC', 'ID', 'JP', 'TH', 'VN', 'RO', 'IL', 'ZA', 'SA', 'AE', 'BH', 'QA', 'OM', 'KW', 'EG', 'MA', 'DZ', 'TN', 'LB', 'JO', 'PS', 'IN', 'BY', 'KZ', 'MD', 'UA', 'AL', 'BA', 'HR', 'ME', 'MK', 'RS', 'SI', 'KR', 'BD', 'PK', 'LK', 'GH', 'KE', 'NG', 'TZ', 'UG', 'AG', 'AM', 'BS', 'BB', 'BZ', 'BT', 'BW', 'BF', 'CV', 'CW', 'DM', 'FJ', 'GM', 'GE', 'GD', 'GW', 'GY', 'HT', 'JM', 'KI', 'LS', 'LR', 'MW', 'MV', 'ML', 'MH', 'FM', 'NA', 'NR', 'NE', 'PW', 'PG', 'PR', 'WS', 'SM', 'ST', 'SN', 'SC', 'SL', 'SB', 'KN', 'LC', 'VC', 'SR', 'TL', 'TO', 'TT', 'TV', 'VU', 'AZ', 'BN', 'BI', 'KH', 'CM', 'TD', 'KM', 'GQ', 'SZ', 'GA', 'GN', 'KG', 'LA', 'MO', 'MR', 'MN', 'NP', 'RW', 'TG', 'UZ', 'ZW', 'BJ', 'MG', 'MU', 'MZ', 'AO', 'CI', 'DJ', 'ZM', 'CD', 'CG', 'IQ', 'LY', 'TJ', 'VE', 'ET', 'XK'], 'disc_number': 1, 'duration_ms': 206117, 'explicit': True, 'external_ids': {'isrc': 'ITMYP2400062'}, 'external_urls': {'spotify': 'https://open.spotify.com/track/2EHGekfAumrwQ9m3VoRWRE'}, 'href': 'https://api.spotify.com/v1/tracks/2EHGekfAumrwQ9m3VoRWRE', 'id': '2EHGekfAumrwQ9m3VoRWRE', 'is_local': False, 'name': 'Storie scritte', 'popularity': 5, 'preview_url': 'https://p.scdn.co/mp3-preview/a03cedb3fd1133b06d8848c6498a0a4f95df230f?cid=732aa669f4d64d7dbfe9a61a281ab23f', 'track_number': 1, 'type': 'track', 'uri': 'spotify:track:2EHGekfAumrwQ9m3VoRWRE'}, {'album': {'album_type': 'album', 'artists': [{'external_urls': {'spotify': 'https://open.spotify.com/artist/3lqFjDejfCha5azvIrlYel'}, 'href': 'https://api.spotify.com/v1/artists/3lqFjDejfCha5azvIrlYel', 'id': '3lqFjDejfCha5azvIrlYel', 'name': 'Ventie20', 'type': 'artist', 'uri': 'spotify:artist:3lqFjDejfCha5azvIrlYel'}], 'available_markets': ['AR', 'AU', 'AT', 'BE', 'BO', 'BR', 'BG', 'CA', 'CL', 'CO', 'CR', 'CY', 'CZ', 'DK', 'DO', 'DE', 'EC', 'EE', 'SV', 'FI', 'FR', 'GR', 'GT', 'HN', 'HK', 'HU', 'IS', 'IE', 'IT', 'LV', 'LT', 'LU', 'MY', 'MT', 'MX', 'NL', 'NZ', 'NI', 'NO', 'PA', 'PY', 'PE', 'PH', 'PL', 'PT', 'SG', 'SK', 'ES', 'SE', 'CH', 'TW', 'TR', 'UY', 'US', 'GB', 'AD', 'LI', 'MC', 'ID', 'JP', 'TH', 'VN', 'RO', 'IL', 'ZA', 'SA', 'AE', 'BH', 'QA', 'OM', 'KW', 'EG', 'MA', 'DZ', 'TN', 'LB', 'JO', 'PS', 'IN', 'BY', 'KZ', 'MD', 'UA', 'AL', 'BA', 'HR', 'ME', 'MK', 'RS', 'SI', 'KR', 'BD', 'PK', 'LK', 'GH', 'KE', 'NG', 'TZ', 'UG', 'AG', 'AM', 'BS', 'BB', 'BZ', 'BT', 'BW', 'BF', 'CV', 'CW', 'DM', 'FJ', 'GM', 'GE', 'GD', 'GW', 'GY', 'HT', 'JM', 'KI', 'LS', 'LR', 'MW', 'MV', 'ML', 'MH', 'FM', 'NA', 'NR', 'NE', 'PW', 'PG', 'PR', 'WS', 'SM', 'ST', 'SN', 'SC', 'SL', 'SB', 'KN', 'LC', 'VC', 'SR', 'TL', 'TO', 'TT', 'TV', 'VU', 'AZ', 'BN', 'BI', 'KH', 'CM', 'TD', 'KM', 'GQ', 'SZ', 'GA', 'GN', 'KG', 'LA', 'MO', 'MR', 'MN', 'NP', 'RW', 'TG', 'UZ', 'ZW', 'BJ', 'MG', 'MU', 'MZ', 'AO', 'CI', 'DJ', 'ZM', 'CD', 'CG', 'IQ', 'LY', 'TJ', 'VE', 'ET', 'XK'], 'external_urls': {'spotify': 'https://open.spotify.com/album/6ph30rTprajm3v0GwMG9n2'}, 'href': 'https://api.spotify.com/v1/albums/6ph30rTprajm3v0GwMG9n2', 'id': '6ph30rTprajm3v0GwMG9n2', 'images': [{'height': 640, 'url': 'https://i.scdn.co/image/ab67616d0000b2739ea56181dcf5ed639a209544', 'width': 640}, {'height': 300, 'url': 'https://i.scdn.co/image/ab67616d00001e029ea56181dcf5ed639a209544', 'width': 300}, {'height': 64, 'url': 'https://i.scdn.co/image/ab67616d000048519ea56181dcf5ed639a209544', 'width': 64}], 'name': 'After Hour', 'release_date': '2023-11-16', 'release_date_precision': 'day', 'total_tracks': 9, 'type': 'album', 'uri': 'spotify:album:6ph30rTprajm3v0GwMG9n2'}, 'artists': [{'external_urls': {'spotify': 'https://open.spotify.com/artist/3lqFjDejfCha5azvIrlYel'}, 'href': 'https://api.spotify.com/v1/artists/3lqFjDejfCha5azvIrlYel', 'id': '3lqFjDejfCha5azvIrlYel', 'name': 'Ventie20', 'type': 'artist', 'uri': 'spotify:artist:3lqFjDejfCha5azvIrlYel'}], 'available_markets': ['AR', 'AU', 'AT', 'BE', 'BO', 'BR', 'BG', 'CA', 'CL', 'CO', 'CR', 'CY', 'CZ', 'DK', 'DO', 'DE', 'EC', 'EE', 'SV', 'FI', 'FR', 'GR', 'GT', 'HN', 'HK', 'HU', 'IS', 'IE', 'IT', 'LV', 'LT', 'LU', 'MY', 'MT', 'MX', 'NL', 'NZ', 'NI', 'NO', 'PA', 'PY', 'PE', 'PH', 'PL', 'PT', 'SG', 'SK', 'ES', 'SE', 'CH', 'TW', 'TR', 'UY', 'US', 'GB', 'AD', 'LI', 'MC', 'ID', 'JP', 'TH', 'VN', 'RO', 'IL', 'ZA', 'SA', 'AE', 'BH', 'QA', 'OM', 'KW', 'EG', 'MA', 'DZ', 'TN', 'LB', 'JO', 'PS', 'IN', 'BY', 'KZ', 'MD', 'UA', 'AL', 'BA', 'HR', 'ME', 'MK', 'RS', 'SI', 'KR', 'BD', 'PK', 'LK', 'GH', 'KE', 'NG', 'TZ', 'UG', 'AG', 'AM', 'BS', 'BB', 'BZ', 'BT', 'BW', 'BF', 'CV', 'CW', 'DM', 'FJ', 'GM', 'GE', 'GD', 'GW', 'GY', 'HT', 'JM', 'KI', 'LS', 'LR', 'MW', 'MV', 'ML', 'MH', 'FM', 'NA', 'NR', 'NE', 'PW', 'PG', 'PR', 'WS', 'SM', 'ST', 'SN', 'SC', 'SL', 'SB', 'KN', 'LC', 'VC', 'SR', 'TL', 'TO', 'TT', 'TV', 'VU', 'AZ', 'BN', 'BI', 'KH', 'CM', 'TD', 'KM', 'GQ', 'SZ', 'GA', 'GN', 'KG', 'LA', 'MO', 'MR', 'MN', 'NP', 'RW', 'TG', 'UZ', 'ZW', 'BJ', 'MG', 'MU', 'MZ', 'AO', 'CI', 'DJ', 'ZM', 'CD', 'CG', 'IQ', 'LY', 'TJ', 'VE', 'ET', 'XK'], 'disc_number': 1, 'duration_ms': 210842, 'explicit': True, 'external_ids': {'isrc': 'GXBDS2357836'}, 'external_urls': {'spotify': 'https://open.spotify.com/track/6keSYy0CX5tHDrrbUls0ll'}, 'href': 'https://api.spotify.com/v1/tracks/6keSYy0CX5tHDrrbUls0ll', 'id': '6keSYy0CX5tHDrrbUls0ll', 'is_local': False, 'name': 'Outro', 'popularity': 15, 'preview_url': 'https://p.scdn.co/mp3-preview/61cd4adcd0e474bc93baa720043572ce8c6516c5?cid=732aa669f4d64d7dbfe9a61a281ab23f', 'track_number': 9, 'type': 'track', 'uri': 'spotify:track:6keSYy0CX5tHDrrbUls0ll'}, {'album': {'album_type': 'album', 'artists': [{'external_urls': {'spotify': 'https://open.spotify.com/artist/1OOhRXbEui67MNMmYyCNK8'}, 'href': 'https://api.spotify.com/v1/artists/1OOhRXbEui67MNMmYyCNK8', 'id': '1OOhRXbEui67MNMmYyCNK8', 'name': 'G.P. Reverberi', 'type': 'artist', 'uri': 'spotify:artist:1OOhRXbEui67MNMmYyCNK8'}, {'external_urls': {'spotify': 'https://open.spotify.com/artist/3Z46VWyfQw74ecuPxrLiBA'}, 'href': 'https://api.spotify.com/v1/artists/3Z46VWyfQw74ecuPxrLiBA', 'id': '3Z46VWyfQw74ecuPxrLiBA', 'name': 'I. Pavesi', 'type': 'artist', 'uri': 'spotify:artist:3Z46VWyfQw74ecuPxrLiBA'}, {'external_urls': {'spotify': 'https://open.spotify.com/artist/6YH4dTGIZZvVO55Sb3095Q'}, 'href': 'https://api.spotify.com/v1/artists/6YH4dTGIZZvVO55Sb3095Q', 'id': '6YH4dTGIZZvVO55Sb3095Q', 'name': 'Rondò Veneziano', 'type': 'artist', 'uri': 'spotify:artist:6YH4dTGIZZvVO55Sb3095Q'}], 'available_markets': ['AR', 'AU', 'AT', 'BE', 'BO', 'BR', 'BG', 'CA', 'CL', 'CO', 'CR', 'CY', 'CZ', 'DK', 'DO', 'DE', 'EC', 'EE', 'SV', 'FI', 'FR', 'GR', 'GT', 'HN', 'HK', 'HU', 'IS', 'IE', 'IT', 'LV', 'LT', 'LU', 'MY', 'MT', 'MX', 'NL', 'NZ', 'NI', 'NO', 'PA', 'PY', 'PE', 'PH', 'PL', 'PT', 'SG', 'SK', 'ES', 'SE', 'CH', 'TW', 'TR', 'UY', 'US', 'GB', 'AD', 'LI', 'MC', 'ID', 'JP', 'TH', 'VN', 'RO', 'IL', 'ZA', 'SA', 'AE', 'BH', 'QA', 'OM', 'KW', 'EG', 'MA', 'DZ', 'TN', 'LB', 'JO', 'PS', 'IN', 'BY', 'KZ', 'MD', 'UA', 'AL', 'BA', 'HR', 'ME', 'MK', 'RS', 'SI', 'KR', 'BD', 'PK', 'LK', 'GH', 'KE', 'NG', 'TZ', 'UG', 'AG', 'AM', 'BS', 'BB', 'BZ', 'BT', 'BW', 'BF', 'CV', 'CW', 'DM', 'FJ', 'GM', 'GE', 'GD', 'GW', 'GY', 'HT', 'JM', 'KI', 'LS', 'LR', 'MW', 'MV', 'ML', 'MH', 'FM', 'NA', 'NR', 'NE', 'PW', 'PG', 'PR', 'WS', 'SM', 'ST', 'SN', 'SC', 'SL', 'SB', 'KN', 'LC', 'VC', 'SR', 'TL', 'TO', 'TT', 'TV', 'VU', 'AZ', 'BN', 'BI', 'KH', 'CM', 'TD', 'KM', 'GQ', 'SZ', 'GA', 'GN', 'KG', 'LA', 'MO', 'MR', 'MN', 'NP', 'RW', 'TG', 'UZ', 'ZW', 'BJ', 'MG', 'MU', 'MZ', 'AO', 'CI', 'DJ', 'ZM', 'CD', 'CG', 'IQ', 'LY', 'TJ', 'VE', 'ET', 'XK'], 'external_urls': {'spotify': 'https://open.spotify.com/album/1rNmn6zfSPAVziylQqSGUZ'}, 'href': 'https://api.spotify.com/v1/albums/1rNmn6zfSPAVziylQqSGUZ', 'id': '1rNmn6zfSPAVziylQqSGUZ', 'images': [{'height': 640, 'url': 'https://i.scdn.co/image/ab67616d0000b2734f7640cc9d0802e85d50ef11', 'width': 640}, {'height': 300, 'url': 'https://i.scdn.co/image/ab67616d00001e024f7640cc9d0802e85d50ef11', 'width': 300}, {'height': 64, 'url': 'https://i.scdn.co/image/ab67616d000048514f7640cc9d0802e85d50ef11', 'width': 64}], 'name': 'Visioni di Venezia', 'release_date': '1989-08-30', 'release_date_precision': 'day', 'total_tracks': 12, 'type': 'album', 'uri': 'spotify:album:1rNmn6zfSPAVziylQqSGUZ'}, 'artists': [{'external_urls': {'spotify': 'https://open.spotify.com/artist/1OOhRXbEui67MNMmYyCNK8'}, 'href': 'https://api.spotify.com/v1/artists/1OOhRXbEui67MNMmYyCNK8', 'id': '1OOhRXbEui67MNMmYyCNK8', 'name': 'G.P. Reverberi', 'type': 'artist', 'uri': 'spotify:artist:1OOhRXbEui67MNMmYyCNK8'}, {'external_urls': {'spotify': 'https://open.spotify.com/artist/3Z46VWyfQw74ecuPxrLiBA'}, 'href': 'https://api.spotify.com/v1/artists/3Z46VWyfQw74ecuPxrLiBA', 'id': '3Z46VWyfQw74ecuPxrLiBA', 'name': 'I. Pavesi', 'type': 'artist', 'uri': 'spotify:artist:3Z46VWyfQw74ecuPxrLiBA'}, {'external_urls': {'spotify': 'https://open.spotify.com/artist/6YH4dTGIZZvVO55Sb3095Q'}, 'href': 'https://api.spotify.com/v1/artists/6YH4dTGIZZvVO55Sb3095Q', 'id': '6YH4dTGIZZvVO55Sb3095Q', 'name': 'Rondò Veneziano', 'type': 'artist', 'uri': 'spotify:artist:6YH4dTGIZZvVO55Sb3095Q'}, {'external_urls': {'spotify': 'https://open.spotify.com/artist/3x4ZOtvWL1tRd6aFUxeBoK'}, 'href': 'https://api.spotify.com/v1/artists/3x4ZOtvWL1tRd6aFUxeBoK', 'id': '3x4ZOtvWL1tRd6aFUxeBoK', 'name': 'Gian Piero Reverberi', 'type': 'artist', 'uri': 'spotify:artist:3x4ZOtvWL1tRd6aFUxeBoK'}], 'available_markets': ['AR', 'AU', 'AT', 'BE', 'BO', 'BR', 'BG', 'CA', 'CL', 'CO', 'CR', 'CY', 'CZ', 'DK', 'DO', 'DE', 'EC', 'EE', 'SV', 'FI', 'FR', 'GR', 'GT', 'HN', 'HK', 'HU', 'IS', 'IE', 'IT', 'LV', 'LT', 'LU', 'MY', 'MT', 'MX', 'NL', 'NZ', 'NI', 'NO', 'PA', 'PY', 'PE', 'PH', 'PL', 'PT', 'SG', 'SK', 'ES', 'SE', 'CH', 'TW', 'TR', 'UY', 'US', 'GB', 'AD', 'LI', 'MC', 'ID', 'JP', 'TH', 'VN', 'RO', 'IL', 'ZA', 'SA', 'AE', 'BH', 'QA', 'OM', 'KW', 'EG', 'MA', 'DZ', 'TN', 'LB', 'JO', 'PS', 'IN', 'BY', 'KZ', 'MD', 'UA', 'AL', 'BA', 'HR', 'ME', 'MK', 'RS', 'SI', 'KR', 'BD', 'PK', 'LK', 'GH', 'KE', 'NG', 'TZ', 'UG', 'AG', 'AM', 'BS', 'BB', 'BZ', 'BT', 'BW', 'BF', 'CV', 'CW', 'DM', 'FJ', 'GM', 'GE', 'GD', 'GW', 'GY', 'HT', 'JM', 'KI', 'LS', 'LR', 'MW', 'MV', 'ML', 'MH', 'FM', 'NA', 'NR', 'NE', 'PW', 'PG', 'PR', 'WS', 'SM', 'ST', 'SN', 'SC', 'SL', 'SB', 'KN', 'LC', 'VC', 'SR', 'TL', 'TO', 'TT', 'TV', 'VU', 'AZ', 'BN', 'BI', 'KH', 'CM', 'TD', 'KM', 'GQ', 'SZ', 'GA', 'GN', 'KG', 'LA', 'MO', 'MR', 'MN', 'NP', 'RW', 'TG', 'UZ', 'ZW', 'BJ', 'MG', 'MU', 'MZ', 'AO', 'CI', 'DJ', 'ZM', 'CD', 'CG', 'IQ', 'LY', 'TJ', 'VE', 'ET', 'XK'], 'disc_number': 1, 'duration_ms': 181293, 'explicit': False, 'external_ids': {'isrc': 'USBI10100406'}, 'external_urls': {'spotify': 'https://open.spotify.com/track/2aVofXg1o4o1uIobRDCYZn'}, 'href': 'https://api.spotify.com/v1/tracks/2aVofXg1o4o1uIobRDCYZn', 'id': '2aVofXg1o4o1uIobRDCYZn', 'is_local': False, 'name': \"Venti d'Oriente\", 'popularity': 21, 'preview_url': 'https://p.scdn.co/mp3-preview/6d36733803bf50b5963d69803650784b1c20656c?cid=732aa669f4d64d7dbfe9a61a281ab23f', 'track_number': 9, 'type': 'track', 'uri': 'spotify:track:2aVofXg1o4o1uIobRDCYZn'}, {'album': {'album_type': 'single', 'artists': [{'external_urls': {'spotify': 'https://open.spotify.com/artist/6neDnq5hgkRsW57b2djIMz'}, 'href': 'https://api.spotify.com/v1/artists/6neDnq5hgkRsW57b2djIMz', 'id': '6neDnq5hgkRsW57b2djIMz', 'name': 'Adrian Peacock', 'type': 'artist', 'uri': 'spotify:artist:6neDnq5hgkRsW57b2djIMz'}, {'external_urls': {'spotify': 'https://open.spotify.com/artist/5hfFAhPFhDeoAwFFN1aRgE'}, 'href': 'https://api.spotify.com/v1/artists/5hfFAhPFhDeoAwFFN1aRgE', 'id': '5hfFAhPFhDeoAwFFN1aRgE', 'name': 'Ora Singers', 'type': 'artist', 'uri': 'spotify:artist:5hfFAhPFhDeoAwFFN1aRgE'}], 'available_markets': ['AR', 'AU', 'AT', 'BE', 'BO', 'BR', 'BG', 'CA', 'CL', 'CO', 'CR', 'CY', 'CZ', 'DK', 'DO', 'DE', 'EC', 'EE', 'SV', 'FI', 'FR', 'GR', 'GT', 'HN', 'HK', 'HU', 'IS', 'IE', 'IT', 'LV', 'LT', 'LU', 'MY', 'MT', 'MX', 'NL', 'NZ', 'NI', 'NO', 'PA', 'PY', 'PE', 'PH', 'PL', 'PT', 'SG', 'SK', 'ES', 'SE', 'CH', 'TW', 'TR', 'UY', 'US', 'GB', 'AD', 'LI', 'MC', 'ID', 'JP', 'TH', 'VN', 'RO', 'IL', 'ZA', 'SA', 'AE', 'BH', 'QA', 'OM', 'KW', 'EG', 'MA', 'DZ', 'TN', 'LB', 'JO', 'PS', 'IN', 'BY', 'KZ', 'MD', 'UA', 'AL', 'BA', 'HR', 'ME', 'MK', 'RS', 'SI', 'KR', 'BD', 'PK', 'LK', 'GH', 'KE', 'NG', 'TZ', 'UG', 'AG', 'AM', 'BS', 'BB', 'BZ', 'BT', 'BW', 'BF', 'CV', 'CW', 'DM', 'FJ', 'GM', 'GE', 'GD', 'GW', 'GY', 'HT', 'JM', 'KI', 'LS', 'LR', 'MW', 'MV', 'ML', 'MH', 'FM', 'NA', 'NR', 'NE', 'PW', 'PG', 'PR', 'WS', 'SM', 'ST', 'SN', 'SC', 'SL', 'SB', 'KN', 'LC', 'VC', 'SR', 'TL', 'TO', 'TT', 'TV', 'VU', 'AZ', 'BN', 'BI', 'KH', 'CM', 'TD', 'KM', 'GQ', 'SZ', 'GA', 'GN', 'KG', 'LA', 'MO', 'MR', 'MN', 'NP', 'RW', 'TG', 'UZ', 'ZW', 'BJ', 'MG', 'MU', 'MZ', 'AO', 'CI', 'DJ', 'ZM', 'CD', 'CG', 'IQ', 'LY', 'TJ', 'VE', 'ET', 'XK'], 'external_urls': {'spotify': 'https://open.spotify.com/album/69yPhul1dEBSU94ZuNXYek'}, 'href': 'https://api.spotify.com/v1/albums/69yPhul1dEBSU94ZuNXYek', 'id': '69yPhul1dEBSU94ZuNXYek', 'images': [{'height': 640, 'url': 'https://i.scdn.co/image/ab67616d0000b27368b9fb478140aecf4202864b', 'width': 640}, {'height': 300, 'url': 'https://i.scdn.co/image/ab67616d00001e0268b9fb478140aecf4202864b', 'width': 300}, {'height': 64, 'url': 'https://i.scdn.co/image/ab67616d0000485168b9fb478140aecf4202864b', 'width': 64}], 'name': 'Venite, Gaudete!', 'release_date': '2017-12-02', 'release_date_precision': 'day', 'total_tracks': 1, 'type': 'album', 'uri': 'spotify:album:69yPhul1dEBSU94ZuNXYek'}, 'artists': [{'external_urls': {'spotify': 'https://open.spotify.com/artist/6neDnq5hgkRsW57b2djIMz'}, 'href': 'https://api.spotify.com/v1/artists/6neDnq5hgkRsW57b2djIMz', 'id': '6neDnq5hgkRsW57b2djIMz', 'name': 'Adrian Peacock', 'type': 'artist', 'uri': 'spotify:artist:6neDnq5hgkRsW57b2djIMz'}, {'external_urls': {'spotify': 'https://open.spotify.com/artist/5hfFAhPFhDeoAwFFN1aRgE'}, 'href': 'https://api.spotify.com/v1/artists/5hfFAhPFhDeoAwFFN1aRgE', 'id': '5hfFAhPFhDeoAwFFN1aRgE', 'name': 'Ora Singers', 'type': 'artist', 'uri': 'spotify:artist:5hfFAhPFhDeoAwFFN1aRgE'}, {'external_urls': {'spotify': 'https://open.spotify.com/artist/1d8v6s8mvwKhEH3s95j4zc'}, 'href': 'https://api.spotify.com/v1/artists/1d8v6s8mvwKhEH3s95j4zc', 'id': '1d8v6s8mvwKhEH3s95j4zc', 'name': 'Suzi Digby', 'type': 'artist', 'uri': 'spotify:artist:1d8v6s8mvwKhEH3s95j4zc'}], 'available_markets': ['AR', 'AU', 'AT', 'BE', 'BO', 'BR', 'BG', 'CA', 'CL', 'CO', 'CR', 'CY', 'CZ', 'DK', 'DO', 'DE', 'EC', 'EE', 'SV', 'FI', 'FR', 'GR', 'GT', 'HN', 'HK', 'HU', 'IS', 'IE', 'IT', 'LV', 'LT', 'LU', 'MY', 'MT', 'MX', 'NL', 'NZ', 'NI', 'NO', 'PA', 'PY', 'PE', 'PH', 'PL', 'PT', 'SG', 'SK', 'ES', 'SE', 'CH', 'TW', 'TR', 'UY', 'US', 'GB', 'AD', 'LI', 'MC', 'ID', 'JP', 'TH', 'VN', 'RO', 'IL', 'ZA', 'SA', 'AE', 'BH', 'QA', 'OM', 'KW', 'EG', 'MA', 'DZ', 'TN', 'LB', 'JO', 'PS', 'IN', 'BY', 'KZ', 'MD', 'UA', 'AL', 'BA', 'HR', 'ME', 'MK', 'RS', 'SI', 'KR', 'BD', 'PK', 'LK', 'GH', 'KE', 'NG', 'TZ', 'UG', 'AG', 'AM', 'BS', 'BB', 'BZ', 'BT', 'BW', 'BF', 'CV', 'CW', 'DM', 'FJ', 'GM', 'GE', 'GD', 'GW', 'GY', 'HT', 'JM', 'KI', 'LS', 'LR', 'MW', 'MV', 'ML', 'MH', 'FM', 'NA', 'NR', 'NE', 'PW', 'PG', 'PR', 'WS', 'SM', 'ST', 'SN', 'SC', 'SL', 'SB', 'KN', 'LC', 'VC', 'SR', 'TL', 'TO', 'TT', 'TV', 'VU', 'AZ', 'BN', 'BI', 'KH', 'CM', 'TD', 'KM', 'GQ', 'SZ', 'GA', 'GN', 'KG', 'LA', 'MO', 'MR', 'MN', 'NP', 'RW', 'TG', 'UZ', 'ZW', 'BJ', 'MG', 'MU', 'MZ', 'AO', 'CI', 'DJ', 'ZM', 'CD', 'CG', 'IQ', 'LY', 'TJ', 'VE', 'ET', 'XK'], 'disc_number': 1, 'duration_ms': 138773, 'explicit': False, 'external_ids': {'isrc': 'GBNTD1729502'}, 'external_urls': {'spotify': 'https://open.spotify.com/track/3mqigzmlKmEbR2zQRssHlF'}, 'href': 'https://api.spotify.com/v1/tracks/3mqigzmlKmEbR2zQRssHlF', 'id': '3mqigzmlKmEbR2zQRssHlF', 'is_local': False, 'name': 'Venite, Gaudete!', 'popularity': 7, 'preview_url': 'https://p.scdn.co/mp3-preview/27122d19f41cf3ab7456a485070199e357980be6?cid=732aa669f4d64d7dbfe9a61a281ab23f', 'track_number': 1, 'type': 'track', 'uri': 'spotify:track:3mqigzmlKmEbR2zQRssHlF'}, {'album': {'album_type': 'album', 'artists': [{'external_urls': {'spotify': 'https://open.spotify.com/artist/6DPxkITuYSrDAPdhISWO35'}, 'href': 'https://api.spotify.com/v1/artists/6DPxkITuYSrDAPdhISWO35', 'id': '6DPxkITuYSrDAPdhISWO35', 'name': 'The Chapel Choir of Pembroke College, Cambridge', 'type': 'artist', 'uri': 'spotify:artist:6DPxkITuYSrDAPdhISWO35'}, {'external_urls': {'spotify': 'https://open.spotify.com/artist/0e2JUvil990IURjsq2PmqP'}, 'href': 'https://api.spotify.com/v1/artists/0e2JUvil990IURjsq2PmqP', 'id': '0e2JUvil990IURjsq2PmqP', 'name': 'Anna Lapwood', 'type': 'artist', 'uri': 'spotify:artist:0e2JUvil990IURjsq2PmqP'}, {'external_urls': {'spotify': 'https://open.spotify.com/artist/1yOR9zLmkleTdu93bcuQRT'}, 'href': 'https://api.spotify.com/v1/artists/1yOR9zLmkleTdu93bcuQRT', 'id': '1yOR9zLmkleTdu93bcuQRT', 'name': 'The Pembroke College Girls’ Choir', 'type': 'artist', 'uri': 'spotify:artist:1yOR9zLmkleTdu93bcuQRT'}], 'available_markets': ['AR', 'AU', 'AT', 'BE', 'BO', 'BR', 'BG', 'CA', 'CL', 'CO', 'CR', 'CY', 'CZ', 'DK', 'DO', 'DE', 'EC', 'EE', 'SV', 'FI', 'FR', 'GR', 'GT', 'HN', 'HK', 'HU', 'IS', 'IE', 'IT', 'LV', 'LT', 'LU', 'MY', 'MT', 'MX', 'NL', 'NZ', 'NI', 'NO', 'PA', 'PY', 'PE', 'PH', 'PL', 'PT', 'SG', 'SK', 'ES', 'SE', 'CH', 'TW', 'TR', 'UY', 'US', 'GB', 'AD', 'LI', 'MC', 'ID', 'JP', 'TH', 'VN', 'RO', 'IL', 'ZA', 'SA', 'AE', 'BH', 'QA', 'OM', 'KW', 'EG', 'MA', 'DZ', 'TN', 'LB', 'JO', 'PS', 'IN', 'BY', 'KZ', 'MD', 'UA', 'AL', 'BA', 'HR', 'ME', 'MK', 'RS', 'SI', 'KR', 'BD', 'PK', 'LK', 'GH', 'KE', 'NG', 'TZ', 'UG', 'AG', 'AM', 'BS', 'BB', 'BZ', 'BT', 'BW', 'BF', 'CV', 'CW', 'DM', 'FJ', 'GM', 'GE', 'GD', 'GW', 'GY', 'HT', 'JM', 'KI', 'LS', 'LR', 'MW', 'MV', 'ML', 'MH', 'FM', 'NA', 'NR', 'NE', 'PW', 'PG', 'PR', 'WS', 'SM', 'ST', 'SN', 'SC', 'SL', 'SB', 'KN', 'LC', 'VC', 'SR', 'TL', 'TO', 'TT', 'TV', 'VU', 'AZ', 'BN', 'BI', 'KH', 'CM', 'TD', 'KM', 'GQ', 'SZ', 'GA', 'GN', 'KG', 'LA', 'MO', 'MR', 'MN', 'NP', 'RW', 'TG', 'UZ', 'ZW', 'BJ', 'MG', 'MU', 'MZ', 'AO', 'CI', 'DJ', 'ZM', 'CD', 'CG', 'IQ', 'LY', 'TJ', 'VE', 'ET', 'XK'], 'external_urls': {'spotify': 'https://open.spotify.com/album/1rscA7yCT8S9BoOXakKMIK'}, 'href': 'https://api.spotify.com/v1/albums/1rscA7yCT8S9BoOXakKMIK', 'id': '1rscA7yCT8S9BoOXakKMIK', 'images': [{'height': 640, 'url': 'https://i.scdn.co/image/ab67616d0000b2730b90e4fa149ebb76348813e0', 'width': 640}, {'height': 300, 'url': 'https://i.scdn.co/image/ab67616d00001e020b90e4fa149ebb76348813e0', 'width': 300}, {'height': 64, 'url': 'https://i.scdn.co/image/ab67616d000048510b90e4fa149ebb76348813e0', 'width': 64}], 'name': 'A Pembroke Christmas', 'release_date': '2022-10-14', 'release_date_precision': 'day', 'total_tracks': 21, 'type': 'album', 'uri': 'spotify:album:1rscA7yCT8S9BoOXakKMIK'}, 'artists': [{'external_urls': {'spotify': 'https://open.spotify.com/artist/6neDnq5hgkRsW57b2djIMz'}, 'href': 'https://api.spotify.com/v1/artists/6neDnq5hgkRsW57b2djIMz', 'id': '6neDnq5hgkRsW57b2djIMz', 'name': 'Adrian Peacock', 'type': 'artist', 'uri': 'spotify:artist:6neDnq5hgkRsW57b2djIMz'}, {'external_urls': {'spotify': 'https://open.spotify.com/artist/6DPxkITuYSrDAPdhISWO35'}, 'href': 'https://api.spotify.com/v1/artists/6DPxkITuYSrDAPdhISWO35', 'id': '6DPxkITuYSrDAPdhISWO35', 'name': 'The Chapel Choir of Pembroke College, Cambridge', 'type': 'artist', 'uri': 'spotify:artist:6DPxkITuYSrDAPdhISWO35'}, {'external_urls': {'spotify': 'https://open.spotify.com/artist/1yOR9zLmkleTdu93bcuQRT'}, 'href': 'https://api.spotify.com/v1/artists/1yOR9zLmkleTdu93bcuQRT', 'id': '1yOR9zLmkleTdu93bcuQRT', 'name': 'The Pembroke College Girls’ Choir', 'type': 'artist', 'uri': 'spotify:artist:1yOR9zLmkleTdu93bcuQRT'}, {'external_urls': {'spotify': 'https://open.spotify.com/artist/0e2JUvil990IURjsq2PmqP'}, 'href': 'https://api.spotify.com/v1/artists/0e2JUvil990IURjsq2PmqP', 'id': '0e2JUvil990IURjsq2PmqP', 'name': 'Anna Lapwood', 'type': 'artist', 'uri': 'spotify:artist:0e2JUvil990IURjsq2PmqP'}], 'available_markets': ['AR', 'AU', 'AT', 'BE', 'BO', 'BR', 'BG', 'CA', 'CL', 'CO', 'CR', 'CY', 'CZ', 'DK', 'DO', 'DE', 'EC', 'EE', 'SV', 'FI', 'FR', 'GR', 'GT', 'HN', 'HK', 'HU', 'IS', 'IE', 'IT', 'LV', 'LT', 'LU', 'MY', 'MT', 'MX', 'NL', 'NZ', 'NI', 'NO', 'PA', 'PY', 'PE', 'PH', 'PL', 'PT', 'SG', 'SK', 'ES', 'SE', 'CH', 'TW', 'TR', 'UY', 'US', 'GB', 'AD', 'LI', 'MC', 'ID', 'JP', 'TH', 'VN', 'RO', 'IL', 'ZA', 'SA', 'AE', 'BH', 'QA', 'OM', 'KW', 'EG', 'MA', 'DZ', 'TN', 'LB', 'JO', 'PS', 'IN', 'BY', 'KZ', 'MD', 'UA', 'AL', 'BA', 'HR', 'ME', 'MK', 'RS', 'SI', 'KR', 'BD', 'PK', 'LK', 'GH', 'KE', 'NG', 'TZ', 'UG', 'AG', 'AM', 'BS', 'BB', 'BZ', 'BT', 'BW', 'BF', 'CV', 'CW', 'DM', 'FJ', 'GM', 'GE', 'GD', 'GW', 'GY', 'HT', 'JM', 'KI', 'LS', 'LR', 'MW', 'MV', 'ML', 'MH', 'FM', 'NA', 'NR', 'NE', 'PW', 'PG', 'PR', 'WS', 'SM', 'ST', 'SN', 'SC', 'SL', 'SB', 'KN', 'LC', 'VC', 'SR', 'TL', 'TO', 'TT', 'TV', 'VU', 'AZ', 'BN', 'BI', 'KH', 'CM', 'TD', 'KM', 'GQ', 'SZ', 'GA', 'GN', 'KG', 'LA', 'MO', 'MR', 'MN', 'NP', 'RW', 'TG', 'UZ', 'ZW', 'BJ', 'MG', 'MU', 'MZ', 'AO', 'CI', 'DJ', 'ZM', 'CD', 'CG', 'IQ', 'LY', 'TJ', 'VE', 'ET', 'XK'], 'disc_number': 1, 'duration_ms': 150240, 'explicit': False, 'external_ids': {'isrc': 'GBLLH2272402'}, 'external_urls': {'spotify': 'https://open.spotify.com/track/4ujvAvhng2Z0zPPwlXDtgc'}, 'href': 'https://api.spotify.com/v1/tracks/4ujvAvhng2Z0zPPwlXDtgc', 'id': '4ujvAvhng2Z0zPPwlXDtgc', 'is_local': False, 'name': 'Venite, Gaudete!', 'popularity': 12, 'preview_url': 'https://p.scdn.co/mp3-preview/c42d4fa1a42cdec740afcebebb0e26b3b54dafe1?cid=732aa669f4d64d7dbfe9a61a281ab23f', 'track_number': 2, 'type': 'track', 'uri': 'spotify:track:4ujvAvhng2Z0zPPwlXDtgc'}, {'album': {'album_type': 'album', 'artists': [{'external_urls': {'spotify': 'https://open.spotify.com/artist/6Tn43TjQJftwCHYbGP3qQX'}, 'href': 'https://api.spotify.com/v1/artists/6Tn43TjQJftwCHYbGP3qQX', 'id': '6Tn43TjQJftwCHYbGP3qQX', 'name': 'The Choir of Canterbury Cathedral', 'type': 'artist', 'uri': 'spotify:artist:6Tn43TjQJftwCHYbGP3qQX'}, {'external_urls': {'spotify': 'https://open.spotify.com/artist/1Sjm8NFMdVivALMkvKMHRl'}, 'href': 'https://api.spotify.com/v1/artists/1Sjm8NFMdVivALMkvKMHRl', 'id': '1Sjm8NFMdVivALMkvKMHRl', 'name': 'David Flood', 'type': 'artist', 'uri': 'spotify:artist:1Sjm8NFMdVivALMkvKMHRl'}], 'available_markets': ['AR', 'AU', 'AT', 'BE', 'BO', 'BR', 'BG', 'CA', 'CL', 'CO', 'CR', 'CY', 'CZ', 'DK', 'DO', 'DE', 'EC', 'EE', 'SV', 'FI', 'FR', 'GR', 'GT', 'HN', 'HK', 'HU', 'IS', 'IE', 'IT', 'LV', 'LT', 'LU', 'MY', 'MT', 'MX', 'NL', 'NZ', 'NI', 'NO', 'PA', 'PY', 'PE', 'PH', 'PL', 'PT', 'SG', 'SK', 'ES', 'SE', 'CH', 'TW', 'TR', 'UY', 'US', 'GB', 'AD', 'LI', 'MC', 'ID', 'JP', 'TH', 'VN', 'RO', 'IL', 'ZA', 'SA', 'AE', 'BH', 'QA', 'OM', 'KW', 'EG', 'MA', 'DZ', 'TN', 'LB', 'JO', 'PS', 'IN', 'BY', 'KZ', 'MD', 'UA', 'AL', 'BA', 'HR', 'ME', 'MK', 'RS', 'SI', 'KR', 'BD', 'PK', 'LK', 'GH', 'KE', 'NG', 'TZ', 'UG', 'AG', 'AM', 'BS', 'BB', 'BZ', 'BT', 'BW', 'BF', 'CV', 'CW', 'DM', 'FJ', 'GM', 'GE', 'GD', 'GW', 'GY', 'HT', 'JM', 'KI', 'LS', 'LR', 'MW', 'MV', 'ML', 'MH', 'FM', 'NA', 'NR', 'NE', 'PW', 'PG', 'PR', 'WS', 'SM', 'ST', 'SN', 'SC', 'SL', 'SB', 'KN', 'LC', 'VC', 'SR', 'TL', 'TO', 'TT', 'TV', 'VU', 'AZ', 'BN', 'BI', 'KH', 'CM', 'TD', 'KM', 'GQ', 'SZ', 'GA', 'GN', 'KG', 'LA', 'MO', 'MR', 'MN', 'NP', 'RW', 'TG', 'UZ', 'ZW', 'BJ', 'MG', 'MU', 'MZ', 'AO', 'CI', 'DJ', 'ZM', 'CD', 'CG', 'IQ', 'LY', 'TJ', 'VE', 'ET', 'XK'], 'external_urls': {'spotify': 'https://open.spotify.com/album/4GCUWhe68TC5Lb7fZPRXdg'}, 'href': 'https://api.spotify.com/v1/albums/4GCUWhe68TC5Lb7fZPRXdg', 'id': '4GCUWhe68TC5Lb7fZPRXdg', 'images': [{'height': 640, 'url': 'https://i.scdn.co/image/ab67616d0000b27317c415202c2dbbc5c4713f41', 'width': 640}, {'height': 300, 'url': 'https://i.scdn.co/image/ab67616d00001e0217c415202c2dbbc5c4713f41', 'width': 300}, {'height': 64, 'url': 'https://i.scdn.co/image/ab67616d0000485117c415202c2dbbc5c4713f41', 'width': 64}], 'name': 'The Canterbury Voice (Live)', 'release_date': '2018-07-23', 'release_date_precision': 'day', 'total_tracks': 18, 'type': 'album', 'uri': 'spotify:album:4GCUWhe68TC5Lb7fZPRXdg'}, 'artists': [{'external_urls': {'spotify': 'https://open.spotify.com/artist/6neDnq5hgkRsW57b2djIMz'}, 'href': 'https://api.spotify.com/v1/artists/6neDnq5hgkRsW57b2djIMz', 'id': '6neDnq5hgkRsW57b2djIMz', 'name': 'Adrian Peacock', 'type': 'artist', 'uri': 'spotify:artist:6neDnq5hgkRsW57b2djIMz'}, {'external_urls': {'spotify': 'https://open.spotify.com/artist/6Tn43TjQJftwCHYbGP3qQX'}, 'href': 'https://api.spotify.com/v1/artists/6Tn43TjQJftwCHYbGP3qQX', 'id': '6Tn43TjQJftwCHYbGP3qQX', 'name': 'The Choir of Canterbury Cathedral', 'type': 'artist', 'uri': 'spotify:artist:6Tn43TjQJftwCHYbGP3qQX'}, {'external_urls': {'spotify': 'https://open.spotify.com/artist/1Sjm8NFMdVivALMkvKMHRl'}, 'href': 'https://api.spotify.com/v1/artists/1Sjm8NFMdVivALMkvKMHRl', 'id': '1Sjm8NFMdVivALMkvKMHRl', 'name': 'David Flood', 'type': 'artist', 'uri': 'spotify:artist:1Sjm8NFMdVivALMkvKMHRl'}], 'available_markets': ['AR', 'AU', 'AT', 'BE', 'BO', 'BR', 'BG', 'CA', 'CL', 'CO', 'CR', 'CY', 'CZ', 'DK', 'DO', 'DE', 'EC', 'EE', 'SV', 'FI', 'FR', 'GR', 'GT', 'HN', 'HK', 'HU', 'IS', 'IE', 'IT', 'LV', 'LT', 'LU', 'MY', 'MT', 'MX', 'NL', 'NZ', 'NI', 'NO', 'PA', 'PY', 'PE', 'PH', 'PL', 'PT', 'SG', 'SK', 'ES', 'SE', 'CH', 'TW', 'TR', 'UY', 'US', 'GB', 'AD', 'LI', 'MC', 'ID', 'JP', 'TH', 'VN', 'RO', 'IL', 'ZA', 'SA', 'AE', 'BH', 'QA', 'OM', 'KW', 'EG', 'MA', 'DZ', 'TN', 'LB', 'JO', 'PS', 'IN', 'BY', 'KZ', 'MD', 'UA', 'AL', 'BA', 'HR', 'ME', 'MK', 'RS', 'SI', 'KR', 'BD', 'PK', 'LK', 'GH', 'KE', 'NG', 'TZ', 'UG', 'AG', 'AM', 'BS', 'BB', 'BZ', 'BT', 'BW', 'BF', 'CV', 'CW', 'DM', 'FJ', 'GM', 'GE', 'GD', 'GW', 'GY', 'HT', 'JM', 'KI', 'LS', 'LR', 'MW', 'MV', 'ML', 'MH', 'FM', 'NA', 'NR', 'NE', 'PW', 'PG', 'PR', 'WS', 'SM', 'ST', 'SN', 'SC', 'SL', 'SB', 'KN', 'LC', 'VC', 'SR', 'TL', 'TO', 'TT', 'TV', 'VU', 'AZ', 'BN', 'BI', 'KH', 'CM', 'TD', 'KM', 'GQ', 'SZ', 'GA', 'GN', 'KG', 'LA', 'MO', 'MR', 'MN', 'NP', 'RW', 'TG', 'UZ', 'ZW', 'BJ', 'MG', 'MU', 'MZ', 'AO', 'CI', 'DJ', 'ZM', 'CD', 'CG', 'IQ', 'LY', 'TJ', 'VE', 'ET', 'XK'], 'disc_number': 1, 'duration_ms': 170666, 'explicit': False, 'external_ids': {'isrc': 'UK7FX1810413'}, 'external_urls': {'spotify': 'https://open.spotify.com/track/1fbXpZYKaspFIuqryx4zVL'}, 'href': 'https://api.spotify.com/v1/tracks/1fbXpZYKaspFIuqryx4zVL', 'id': '1fbXpZYKaspFIuqryx4zVL', 'is_local': False, 'name': 'Venite, Gaudete! - Live', 'popularity': 0, 'preview_url': 'https://p.scdn.co/mp3-preview/d7c07e667f6079b654ce13c6e9f28c75dc5aadf1?cid=732aa669f4d64d7dbfe9a61a281ab23f', 'track_number': 13, 'type': 'track', 'uri': 'spotify:track:1fbXpZYKaspFIuqryx4zVL'}, {'album': {'album_type': 'album', 'artists': [{'external_urls': {'spotify': 'https://open.spotify.com/artist/4qenjQZBIuPL8Ridz3sLH4'}, 'href': 'https://api.spotify.com/v1/artists/4qenjQZBIuPL8Ridz3sLH4', 'id': '4qenjQZBIuPL8Ridz3sLH4', 'name': 'York Minster Choir', 'type': 'artist', 'uri': 'spotify:artist:4qenjQZBIuPL8Ridz3sLH4'}, {'external_urls': {'spotify': 'https://open.spotify.com/artist/2dCzPqjLIrUeMt1R1yhH5P'}, 'href': 'https://api.spotify.com/v1/artists/2dCzPqjLIrUeMt1R1yhH5P', 'id': '2dCzPqjLIrUeMt1R1yhH5P', 'name': 'Robert Sharpe', 'type': 'artist', 'uri': 'spotify:artist:2dCzPqjLIrUeMt1R1yhH5P'}, {'external_urls': {'spotify': 'https://open.spotify.com/artist/2TCPOhGQM2ZTos7lzivs68'}, 'href': 'https://api.spotify.com/v1/artists/2TCPOhGQM2ZTos7lzivs68', 'id': '2TCPOhGQM2ZTos7lzivs68', 'name': 'David Pipe', 'type': 'artist', 'uri': 'spotify:artist:2TCPOhGQM2ZTos7lzivs68'}, {'external_urls': {'spotify': 'https://open.spotify.com/artist/1yE1LLWShudLXk2uolz6bq'}, 'href': 'https://api.spotify.com/v1/artists/1yE1LLWShudLXk2uolz6bq', 'id': '1yE1LLWShudLXk2uolz6bq', 'name': 'Ben Horden', 'type': 'artist', 'uri': 'spotify:artist:1yE1LLWShudLXk2uolz6bq'}], 'available_markets': ['AR', 'AU', 'AT', 'BE', 'BO', 'BR', 'BG', 'CA', 'CL', 'CO', 'CR', 'CY', 'CZ', 'DK', 'DO', 'DE', 'EC', 'EE', 'SV', 'FI', 'FR', 'GR', 'GT', 'HN', 'HK', 'HU', 'IS', 'IE', 'IT', 'LV', 'LT', 'LU', 'MY', 'MT', 'MX', 'NL', 'NZ', 'NI', 'NO', 'PA', 'PY', 'PE', 'PH', 'PL', 'PT', 'SG', 'SK', 'ES', 'SE', 'CH', 'TW', 'TR', 'UY', 'US', 'GB', 'AD', 'LI', 'MC', 'ID', 'JP', 'TH', 'VN', 'RO', 'IL', 'ZA', 'SA', 'AE', 'BH', 'QA', 'OM', 'KW', 'EG', 'MA', 'DZ', 'TN', 'LB', 'JO', 'PS', 'IN', 'BY', 'KZ', 'MD', 'UA', 'AL', 'BA', 'HR', 'ME', 'MK', 'RS', 'SI', 'KR', 'BD', 'PK', 'LK', 'GH', 'KE', 'NG', 'TZ', 'UG', 'AG', 'AM', 'BS', 'BB', 'BZ', 'BT', 'BW', 'BF', 'CV', 'CW', 'DM', 'FJ', 'GM', 'GE', 'GD', 'GW', 'GY', 'HT', 'JM', 'KI', 'LS', 'LR', 'MW', 'MV', 'ML', 'MH', 'FM', 'NA', 'NR', 'NE', 'PW', 'PG', 'PR', 'WS', 'SM', 'ST', 'SN', 'SC', 'SL', 'SB', 'KN', 'LC', 'VC', 'SR', 'TL', 'TO', 'TT', 'TV', 'VU', 'AZ', 'BN', 'BI', 'KH', 'CM', 'TD', 'KM', 'GQ', 'SZ', 'GA', 'GN', 'KG', 'LA', 'MO', 'MR', 'MN', 'NP', 'RW', 'TG', 'UZ', 'ZW', 'BJ', 'MG', 'MU', 'MZ', 'AO', 'CI', 'DJ', 'ZM', 'CD', 'CG', 'IQ', 'LY', 'TJ', 'VE', 'ET', 'XK'], 'external_urls': {'spotify': 'https://open.spotify.com/album/5aa42jdrbqh1qRM9Mlf9S5'}, 'href': 'https://api.spotify.com/v1/albums/5aa42jdrbqh1qRM9Mlf9S5', 'id': '5aa42jdrbqh1qRM9Mlf9S5', 'images': [{'height': 640, 'url': 'https://i.scdn.co/image/ab67616d0000b273879bf64cac60c14d9f053fc3', 'width': 640}, {'height': 300, 'url': 'https://i.scdn.co/image/ab67616d00001e02879bf64cac60c14d9f053fc3', 'width': 300}, {'height': 64, 'url': 'https://i.scdn.co/image/ab67616d00004851879bf64cac60c14d9f053fc3', 'width': 64}], 'name': 'An Ebor Epiphany', 'release_date': '2016-11-01', 'release_date_precision': 'day', 'total_tracks': 21, 'type': 'album', 'uri': 'spotify:album:5aa42jdrbqh1qRM9Mlf9S5'}, 'artists': [{'external_urls': {'spotify': 'https://open.spotify.com/artist/4YbgVC6Cn27GFKUEK8Zaws'}, 'href': 'https://api.spotify.com/v1/artists/4YbgVC6Cn27GFKUEK8Zaws', 'id': '4YbgVC6Cn27GFKUEK8Zaws', 'name': 'Edwin G Monk', 'type': 'artist', 'uri': 'spotify:artist:4YbgVC6Cn27GFKUEK8Zaws'}, {'external_urls': {'spotify': 'https://open.spotify.com/artist/4qenjQZBIuPL8Ridz3sLH4'}, 'href': 'https://api.spotify.com/v1/artists/4qenjQZBIuPL8Ridz3sLH4', 'id': '4qenjQZBIuPL8Ridz3sLH4', 'name': 'York Minster Choir', 'type': 'artist', 'uri': 'spotify:artist:4qenjQZBIuPL8Ridz3sLH4'}, {'external_urls': {'spotify': 'https://open.spotify.com/artist/2TCPOhGQM2ZTos7lzivs68'}, 'href': 'https://api.spotify.com/v1/artists/2TCPOhGQM2ZTos7lzivs68', 'id': '2TCPOhGQM2ZTos7lzivs68', 'name': 'David Pipe', 'type': 'artist', 'uri': 'spotify:artist:2TCPOhGQM2ZTos7lzivs68'}, {'external_urls': {'spotify': 'https://open.spotify.com/artist/2dCzPqjLIrUeMt1R1yhH5P'}, 'href': 'https://api.spotify.com/v1/artists/2dCzPqjLIrUeMt1R1yhH5P', 'id': '2dCzPqjLIrUeMt1R1yhH5P', 'name': 'Robert Sharpe', 'type': 'artist', 'uri': 'spotify:artist:2dCzPqjLIrUeMt1R1yhH5P'}], 'available_markets': ['AR', 'AU', 'AT', 'BE', 'BO', 'BR', 'BG', 'CA', 'CL', 'CO', 'CR', 'CY', 'CZ', 'DK', 'DO', 'DE', 'EC', 'EE', 'SV', 'FI', 'FR', 'GR', 'GT', 'HN', 'HK', 'HU', 'IS', 'IE', 'IT', 'LV', 'LT', 'LU', 'MY', 'MT', 'MX', 'NL', 'NZ', 'NI', 'NO', 'PA', 'PY', 'PE', 'PH', 'PL', 'PT', 'SG', 'SK', 'ES', 'SE', 'CH', 'TW', 'TR', 'UY', 'US', 'GB', 'AD', 'LI', 'MC', 'ID', 'JP', 'TH', 'VN', 'RO', 'IL', 'ZA', 'SA', 'AE', 'BH', 'QA', 'OM', 'KW', 'EG', 'MA', 'DZ', 'TN', 'LB', 'JO', 'PS', 'IN', 'BY', 'KZ', 'MD', 'UA', 'AL', 'BA', 'HR', 'ME', 'MK', 'RS', 'SI', 'KR', 'BD', 'PK', 'LK', 'GH', 'KE', 'NG', 'TZ', 'UG', 'AG', 'AM', 'BS', 'BB', 'BZ', 'BT', 'BW', 'BF', 'CV', 'CW', 'DM', 'FJ', 'GM', 'GE', 'GD', 'GW', 'GY', 'HT', 'JM', 'KI', 'LS', 'LR', 'MW', 'MV', 'ML', 'MH', 'FM', 'NA', 'NR', 'NE', 'PW', 'PG', 'PR', 'WS', 'SM', 'ST', 'SN', 'SC', 'SL', 'SB', 'KN', 'LC', 'VC', 'SR', 'TL', 'TO', 'TT', 'TV', 'VU', 'AZ', 'BN', 'BI', 'KH', 'CM', 'TD', 'KM', 'GQ', 'SZ', 'GA', 'GN', 'KG', 'LA', 'MO', 'MR', 'MN', 'NP', 'RW', 'TG', 'UZ', 'ZW', 'BJ', 'MG', 'MU', 'MZ', 'AO', 'CI', 'DJ', 'ZM', 'CD', 'CG', 'IQ', 'LY', 'TJ', 'VE', 'ET', 'XK'], 'disc_number': 1, 'duration_ms': 138040, 'explicit': False, 'external_ids': {'isrc': 'GB7WZ1239111'}, 'external_urls': {'spotify': 'https://open.spotify.com/track/1ETkgbegTvsLPYBFTXji0f'}, 'href': 'https://api.spotify.com/v1/tracks/1ETkgbegTvsLPYBFTXji0f', 'id': '1ETkgbegTvsLPYBFTXji0f', 'is_local': False, 'name': 'Venite', 'popularity': 2, 'preview_url': 'https://p.scdn.co/mp3-preview/bd208f884085d9811a01bea7404730e12fa6a141?cid=732aa669f4d64d7dbfe9a61a281ab23f', 'track_number': 11, 'type': 'track', 'uri': 'spotify:track:1ETkgbegTvsLPYBFTXji0f'}], 'limit': 10, 'next': 'https://api.spotify.com/v1/search?query=Veintore&type=track&offset=10&limit=10', 'offset': 0, 'previous': None, 'total': 105}}\n"
     ]
    }
   ],
   "source": [
    "print(formatted_names[0][\"name\"])\n",
    "track_results = sp.search(q=desired_user[\"name\"], type=\"track\", limit = 10)\n",
    "print(track_results)"
   ]
  },
  {
   "cell_type": "code",
   "execution_count": 17,
   "id": "3474ded5-2f95-4eb4-ae8a-f22b43e195cb",
   "metadata": {},
   "outputs": [
    {
     "name": "stdout",
     "output_type": "stream",
     "text": [
      "['spotify:track:6vEFy7TE2d538IFaPtJ9Rz', 'spotify:track:2VgOo1Hp6175BA4VfgiUb5', 'spotify:track:46YjY96lFePbZZYswXvXTw', 'spotify:track:2EHGekfAumrwQ9m3VoRWRE', 'spotify:track:6keSYy0CX5tHDrrbUls0ll', 'spotify:track:2aVofXg1o4o1uIobRDCYZn', 'spotify:track:3mqigzmlKmEbR2zQRssHlF', 'spotify:track:4ujvAvhng2Z0zPPwlXDtgc', 'spotify:track:1fbXpZYKaspFIuqryx4zVL', 'spotify:track:1ETkgbegTvsLPYBFTXji0f']\n"
     ]
    }
   ],
   "source": [
    "song_data = track_results[\"tracks\"][\"items\"]\n",
    "\n",
    "song_uris = []\n",
    "for song in song_data:\n",
    "    song_uris.append(song[\"uri\"])\n",
    "print(song_uris)"
   ]
  },
  {
   "cell_type": "code",
   "execution_count": 18,
   "id": "8ef0ebb4-664a-4cb9-8d31-863e4dac8a12",
   "metadata": {},
   "outputs": [
    {
     "name": "stdout",
     "output_type": "stream",
     "text": [
      "{'snapshot_id': 'AAAAAt0C9yRUYDuxdC3tmYmfJAcOd5Gc'}\n"
     ]
    },
    {
     "data": {
      "text/plain": [
       "True"
      ]
     },
     "execution_count": 18,
     "metadata": {},
     "output_type": "execute_result"
    }
   ],
   "source": [
    "my_playlist = sp.user_playlist_create(user=username, name=desired_user[\"name\"], public=True,\n",
    "                                      description=f\"Playlist for the Robloxian {desired_user[\"name\"]}!\")\n",
    "results = sp.user_playlist_add_tracks(username, my_playlist['id'], song_uris)\n",
    "print(results)\n",
    "\n",
    "def get_as_base64(url):\n",
    "    response = requests.get(url)\n",
    "    return base64.b64encode(response.content).decode('utf-8')\n",
    "\n",
    "get_as_base64(user_image)\n",
    "\n",
    "user_image_base64 = get_as_base64(user_image)\n",
    "sp.playlist_upload_cover_image(my_playlist['id'], user_image_base64)\n",
    "\n",
    "webbrowser.open(my_playlist['external_urls']['spotify'])"
   ]
  },
  {
   "cell_type": "code",
   "execution_count": null,
   "id": "f1bb43d6-1366-40c0-a7a5-44868ee788ab",
   "metadata": {},
   "outputs": [],
   "source": []
  },
  {
   "cell_type": "code",
   "execution_count": null,
   "id": "5310089d-d44d-4a71-9e30-56f540f93df8",
   "metadata": {},
   "outputs": [],
   "source": []
  },
  {
   "cell_type": "code",
   "execution_count": null,
   "id": "c447f495-906a-4d21-9562-d59426ee4437",
   "metadata": {},
   "outputs": [],
   "source": []
  }
 ],
 "metadata": {
  "kernelspec": {
   "display_name": "Python 3 (ipykernel)",
   "language": "python",
   "name": "python3"
  },
  "language_info": {
   "codemirror_mode": {
    "name": "ipython",
    "version": 3
   },
   "file_extension": ".py",
   "mimetype": "text/x-python",
   "name": "python",
   "nbconvert_exporter": "python",
   "pygments_lexer": "ipython3",
   "version": "3.12.7"
  }
 },
 "nbformat": 4,
 "nbformat_minor": 5
}
